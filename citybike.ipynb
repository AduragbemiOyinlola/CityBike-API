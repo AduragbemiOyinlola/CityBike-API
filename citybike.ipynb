{
 "cells": [
  {
   "cell_type": "markdown",
   "metadata": {},
   "source": [
    "# **CITY BIKE API**"
   ]
  },
  {
   "cell_type": "code",
   "execution_count": 1,
   "metadata": {},
   "outputs": [],
   "source": [
    "# libraries used\n",
    "import requests\n",
    "import json\n",
    "import pandas as pd\n",
    "import matplotlib.pyplot as plt\n",
    "import seaborn as sns"
   ]
  },
  {
   "cell_type": "code",
   "execution_count": 2,
   "metadata": {},
   "outputs": [],
   "source": [
    "# API url\n",
    "url = \"http://api.citybik.es/v2/networks\""
   ]
  },
  {
   "cell_type": "code",
   "execution_count": 3,
   "metadata": {},
   "outputs": [
    {
     "data": {
      "text/plain": [
       "[{'company': ['ЗАО «СитиБайк»'],\n",
       "  'href': '/v2/networks/velobike-moscow',\n",
       "  'id': 'velobike-moscow',\n",
       "  'location': {'city': 'Moscow',\n",
       "   'country': 'RU',\n",
       "   'latitude': 55.75,\n",
       "   'longitude': 37.616667},\n",
       "  'name': 'Velobike'},\n",
       " {'company': ['Comunicare S.r.l.'],\n",
       "  'href': '/v2/networks/bicincitta-siena',\n",
       "  'id': 'bicincitta-siena',\n",
       "  'location': {'city': 'Siena',\n",
       "   'country': 'IT',\n",
       "   'latitude': 43.3186,\n",
       "   'longitude': 11.3306},\n",
       "  'name': 'Bicincittà',\n",
       "  'source': 'https://www.bicincitta.com/frmLeStazioni.aspx?ID=202'},\n",
       " {'company': ['Cyclopolis Systems'],\n",
       "  'href': '/v2/networks/cyclopolis-maroussi',\n",
       "  'id': 'cyclopolis-maroussi',\n",
       "  'location': {'city': 'Maroussi',\n",
       "   'country': 'GR',\n",
       "   'latitude': 38.0568722388,\n",
       "   'longitude': 23.8083299536},\n",
       "  'name': 'Cyclopolis'},\n",
       " {'company': ['Cyclopolis Systems'],\n",
       "  'href': '/v2/networks/cyclopolis-nafplio',\n",
       "  'id': 'cyclopolis-nafplio',\n",
       "  'location': {'city': 'Nafplio',\n",
       "   'country': 'GR',\n",
       "   'latitude': 37.5639397319,\n",
       "   'longitude': 22.8093402872},\n",
       "  'name': 'Cyclopolis'},\n",
       " {'company': ['Comunicare S.r.l.'],\n",
       "  'href': '/v2/networks/bicincitta-parco-dei-colli-di-bergamo',\n",
       "  'id': 'bicincitta-parco-dei-colli-di-bergamo',\n",
       "  'location': {'city': 'Parco dei Colli di Bergamo',\n",
       "   'country': 'IT',\n",
       "   'latitude': 45.72295637032245,\n",
       "   'longitude': 9.649230073016383},\n",
       "  'name': 'Bicincittà',\n",
       "  'source': 'https://www.bicincitta.com/frmLeStazioni.aspx?ID=203'}]"
      ]
     },
     "execution_count": 3,
     "metadata": {},
     "output_type": "execute_result"
    }
   ],
   "source": [
    "# parsed the data as JSON\n",
    "response = requests.get(url).json()\n",
    "# prints first 5 values\n",
    "response['networks'][:5]"
   ]
  },
  {
   "cell_type": "markdown",
   "metadata": {},
   "source": [
    "> From the documentation, the API provides field filtering parameter and from the list of features in the JSON formatted data, I am interested in the name of the company providing the bike and the location of the company."
   ]
  },
  {
   "cell_type": "code",
   "execution_count": 4,
   "metadata": {},
   "outputs": [],
   "source": [
    "# API url with the filter parameter\n",
    "urlFilter = \"http://api.citybik.es/v2/networks?fields=name,location\""
   ]
  },
  {
   "cell_type": "code",
   "execution_count": 5,
   "metadata": {},
   "outputs": [
    {
     "data": {
      "text/plain": [
       "[{'location': {'city': 'Moscow',\n",
       "   'country': 'RU',\n",
       "   'latitude': 55.75,\n",
       "   'longitude': 37.616667},\n",
       "  'name': 'Velobike'},\n",
       " {'location': {'city': 'Siena',\n",
       "   'country': 'IT',\n",
       "   'latitude': 43.3186,\n",
       "   'longitude': 11.3306},\n",
       "  'name': 'Bicincittà'},\n",
       " {'location': {'city': 'Maroussi',\n",
       "   'country': 'GR',\n",
       "   'latitude': 38.0568722388,\n",
       "   'longitude': 23.8083299536},\n",
       "  'name': 'Cyclopolis'},\n",
       " {'location': {'city': 'Nafplio',\n",
       "   'country': 'GR',\n",
       "   'latitude': 37.5639397319,\n",
       "   'longitude': 22.8093402872},\n",
       "  'name': 'Cyclopolis'},\n",
       " {'location': {'city': 'Parco dei Colli di Bergamo',\n",
       "   'country': 'IT',\n",
       "   'latitude': 45.72295637032245,\n",
       "   'longitude': 9.649230073016383},\n",
       "  'name': 'Bicincittà'}]"
      ]
     },
     "execution_count": 5,
     "metadata": {},
     "output_type": "execute_result"
    }
   ],
   "source": [
    "# parsed the data as JSON\n",
    "responseFilter = requests.get(urlFilter).json()\n",
    "# prints first 5 values\n",
    "responseFilter['networks'][:5]"
   ]
  },
  {
   "cell_type": "markdown",
   "metadata": {},
   "source": [
    "> The result above shows that location information is stored in a dictionary.\n",
    "\n",
    "## **PUT INFORMATION INTO A TABLE**"
   ]
  },
  {
   "cell_type": "code",
   "execution_count": 6,
   "metadata": {},
   "outputs": [
    {
     "data": {
      "text/html": [
       "<div>\n",
       "<style scoped>\n",
       "    .dataframe tbody tr th:only-of-type {\n",
       "        vertical-align: middle;\n",
       "    }\n",
       "\n",
       "    .dataframe tbody tr th {\n",
       "        vertical-align: top;\n",
       "    }\n",
       "\n",
       "    .dataframe thead th {\n",
       "        text-align: right;\n",
       "    }\n",
       "</style>\n",
       "<table border=\"1\" class=\"dataframe\">\n",
       "  <thead>\n",
       "    <tr style=\"text-align: right;\">\n",
       "      <th></th>\n",
       "      <th>Name</th>\n",
       "      <th>Country</th>\n",
       "      <th>City</th>\n",
       "      <th>Latitude</th>\n",
       "      <th>Longitude</th>\n",
       "    </tr>\n",
       "  </thead>\n",
       "  <tbody>\n",
       "    <tr>\n",
       "      <th>0</th>\n",
       "      <td>Velobike</td>\n",
       "      <td>RU</td>\n",
       "      <td>Moscow</td>\n",
       "      <td>55.750000</td>\n",
       "      <td>37.616667</td>\n",
       "    </tr>\n",
       "    <tr>\n",
       "      <th>1</th>\n",
       "      <td>Bicincittà</td>\n",
       "      <td>IT</td>\n",
       "      <td>Siena</td>\n",
       "      <td>43.318600</td>\n",
       "      <td>11.330600</td>\n",
       "    </tr>\n",
       "    <tr>\n",
       "      <th>2</th>\n",
       "      <td>Cyclopolis</td>\n",
       "      <td>GR</td>\n",
       "      <td>Maroussi</td>\n",
       "      <td>38.056872</td>\n",
       "      <td>23.808330</td>\n",
       "    </tr>\n",
       "    <tr>\n",
       "      <th>3</th>\n",
       "      <td>Cyclopolis</td>\n",
       "      <td>GR</td>\n",
       "      <td>Nafplio</td>\n",
       "      <td>37.563940</td>\n",
       "      <td>22.809340</td>\n",
       "    </tr>\n",
       "    <tr>\n",
       "      <th>4</th>\n",
       "      <td>Bicincittà</td>\n",
       "      <td>IT</td>\n",
       "      <td>Parco dei Colli di Bergamo</td>\n",
       "      <td>45.722956</td>\n",
       "      <td>9.649230</td>\n",
       "    </tr>\n",
       "  </tbody>\n",
       "</table>\n",
       "</div>"
      ],
      "text/plain": [
       "         Name Country                        City   Latitude  Longitude\n",
       "0    Velobike      RU                      Moscow  55.750000  37.616667\n",
       "1  Bicincittà      IT                       Siena  43.318600  11.330600\n",
       "2  Cyclopolis      GR                    Maroussi  38.056872  23.808330\n",
       "3  Cyclopolis      GR                     Nafplio  37.563940  22.809340\n",
       "4  Bicincittà      IT  Parco dei Colli di Bergamo  45.722956   9.649230"
      ]
     },
     "execution_count": 6,
     "metadata": {},
     "output_type": "execute_result"
    }
   ],
   "source": [
    "# create main dataframe\n",
    "bike = pd.DataFrame()\n",
    "\n",
    "# loop through the JSON formatted data\n",
    "for i in range(len(responseFilter['networks'])):\n",
    "    # create a temporary dataframe\n",
    "    temp = pd.DataFrame(\n",
    "        {\n",
    "            'Name': [responseFilter['networks'][i]['name']],\n",
    "            'Country': [responseFilter['networks'][i]['location']['country']],\n",
    "            'City': [responseFilter['networks'][i]['location']['city']],\n",
    "            'Latitude': [responseFilter['networks'][i]['location']['latitude']],\n",
    "            'Longitude': [responseFilter['networks'][i]['location']['longitude']]\n",
    "        }\n",
    "    )\n",
    "\n",
    "    # concatenate the temporary dataframe with the earlier created dataframe\n",
    "    bike = pd.concat([bike, temp], ignore_index=True)\n",
    "\n",
    "bike.head() # print the first 5 rows"
   ]
  },
  {
   "cell_type": "markdown",
   "metadata": {},
   "source": [
    "# **REPLACE COUNTRY ABBREVIATION WITH FULLNAME**\n",
    "\n",
    "> Replacing the country's abbreviated name with the fullname to help audience understand the dataset and resulting visualization."
   ]
  },
  {
   "cell_type": "code",
   "execution_count": 7,
   "metadata": {},
   "outputs": [],
   "source": [
    "from bs4 import BeautifulSoup\n",
    "import csv\n",
    "\n",
    "# Fetch the web page\n",
    "url = 'https://www.iban.com/country-codes'\n",
    "responseCountry = requests.get(url)\n",
    "html_content = responseCountry.content\n",
    "\n",
    "# Parse the HTML content\n",
    "soup = BeautifulSoup(html_content, 'html.parser')\n",
    "\n",
    "# Find the table you want to scrape\n",
    "table = soup.find('table')\n",
    "\n",
    "# Extract the table rows\n",
    "rows = table.find_all('tr')\n",
    "\n",
    "# Open a CSV file to store the scraped data\n",
    "with open('country_names.csv', 'w', newline='') as file:\n",
    "    writer = csv.writer(file)\n",
    "    for row in rows:\n",
    "        # Extract the text from each table cell\n",
    "        data = [cell.text.strip() for cell in row.find_all('td')]\n",
    "        writer.writerow(data)\n"
   ]
  },
  {
   "cell_type": "code",
   "execution_count": 8,
   "metadata": {},
   "outputs": [
    {
     "data": {
      "text/html": [
       "<div>\n",
       "<style scoped>\n",
       "    .dataframe tbody tr th:only-of-type {\n",
       "        vertical-align: middle;\n",
       "    }\n",
       "\n",
       "    .dataframe tbody tr th {\n",
       "        vertical-align: top;\n",
       "    }\n",
       "\n",
       "    .dataframe thead th {\n",
       "        text-align: right;\n",
       "    }\n",
       "</style>\n",
       "<table border=\"1\" class=\"dataframe\">\n",
       "  <thead>\n",
       "    <tr style=\"text-align: right;\">\n",
       "      <th></th>\n",
       "      <th>Country</th>\n",
       "      <th>Alpha-2</th>\n",
       "      <th>Alpha-3</th>\n",
       "      <th>Numeric</th>\n",
       "    </tr>\n",
       "  </thead>\n",
       "  <tbody>\n",
       "    <tr>\n",
       "      <th>0</th>\n",
       "      <td>Afghanistan</td>\n",
       "      <td>AF</td>\n",
       "      <td>AFG</td>\n",
       "      <td>4</td>\n",
       "    </tr>\n",
       "    <tr>\n",
       "      <th>1</th>\n",
       "      <td>Åland Islands</td>\n",
       "      <td>AX</td>\n",
       "      <td>ALA</td>\n",
       "      <td>248</td>\n",
       "    </tr>\n",
       "    <tr>\n",
       "      <th>2</th>\n",
       "      <td>Albania</td>\n",
       "      <td>AL</td>\n",
       "      <td>ALB</td>\n",
       "      <td>8</td>\n",
       "    </tr>\n",
       "    <tr>\n",
       "      <th>3</th>\n",
       "      <td>Algeria</td>\n",
       "      <td>DZ</td>\n",
       "      <td>DZA</td>\n",
       "      <td>12</td>\n",
       "    </tr>\n",
       "    <tr>\n",
       "      <th>4</th>\n",
       "      <td>American Samoa</td>\n",
       "      <td>AS</td>\n",
       "      <td>ASM</td>\n",
       "      <td>16</td>\n",
       "    </tr>\n",
       "  </tbody>\n",
       "</table>\n",
       "</div>"
      ],
      "text/plain": [
       "          Country Alpha-2 Alpha-3  Numeric\n",
       "0     Afghanistan      AF     AFG        4\n",
       "1   Åland Islands      AX     ALA      248\n",
       "2         Albania      AL     ALB        8\n",
       "3         Algeria      DZ     DZA       12\n",
       "4  American Samoa      AS     ASM       16"
      ]
     },
     "execution_count": 8,
     "metadata": {},
     "output_type": "execute_result"
    }
   ],
   "source": [
    "# reads in the scraped dataset\n",
    "countryFullName = pd.read_csv('country_names.csv', encoding='ISO-8859-1', names=['Country', 'Alpha-2', 'Alpha-3', 'Numeric'])\n",
    "countryFullName.head() # print the first 5 rows"
   ]
  },
  {
   "cell_type": "code",
   "execution_count": 9,
   "metadata": {},
   "outputs": [
    {
     "data": {
      "text/html": [
       "<div>\n",
       "<style scoped>\n",
       "    .dataframe tbody tr th:only-of-type {\n",
       "        vertical-align: middle;\n",
       "    }\n",
       "\n",
       "    .dataframe tbody tr th {\n",
       "        vertical-align: top;\n",
       "    }\n",
       "\n",
       "    .dataframe thead th {\n",
       "        text-align: right;\n",
       "    }\n",
       "</style>\n",
       "<table border=\"1\" class=\"dataframe\">\n",
       "  <thead>\n",
       "    <tr style=\"text-align: right;\">\n",
       "      <th></th>\n",
       "      <th>Name</th>\n",
       "      <th>Country_left</th>\n",
       "      <th>City</th>\n",
       "      <th>Latitude</th>\n",
       "      <th>Longitude</th>\n",
       "      <th>Country</th>\n",
       "      <th>Alpha-2</th>\n",
       "      <th>Alpha-3</th>\n",
       "      <th>Numeric</th>\n",
       "    </tr>\n",
       "  </thead>\n",
       "  <tbody>\n",
       "    <tr>\n",
       "      <th>0</th>\n",
       "      <td>Velobike</td>\n",
       "      <td>RU</td>\n",
       "      <td>Moscow</td>\n",
       "      <td>55.750000</td>\n",
       "      <td>37.616667</td>\n",
       "      <td>Russian Federation (the)</td>\n",
       "      <td>RU</td>\n",
       "      <td>RUS</td>\n",
       "      <td>643</td>\n",
       "    </tr>\n",
       "    <tr>\n",
       "      <th>1</th>\n",
       "      <td>Bicincittà</td>\n",
       "      <td>IT</td>\n",
       "      <td>Siena</td>\n",
       "      <td>43.318600</td>\n",
       "      <td>11.330600</td>\n",
       "      <td>Italy</td>\n",
       "      <td>IT</td>\n",
       "      <td>ITA</td>\n",
       "      <td>380</td>\n",
       "    </tr>\n",
       "    <tr>\n",
       "      <th>2</th>\n",
       "      <td>Cyclopolis</td>\n",
       "      <td>GR</td>\n",
       "      <td>Maroussi</td>\n",
       "      <td>38.056872</td>\n",
       "      <td>23.808330</td>\n",
       "      <td>Greece</td>\n",
       "      <td>GR</td>\n",
       "      <td>GRC</td>\n",
       "      <td>300</td>\n",
       "    </tr>\n",
       "    <tr>\n",
       "      <th>3</th>\n",
       "      <td>Cyclopolis</td>\n",
       "      <td>GR</td>\n",
       "      <td>Nafplio</td>\n",
       "      <td>37.563940</td>\n",
       "      <td>22.809340</td>\n",
       "      <td>Greece</td>\n",
       "      <td>GR</td>\n",
       "      <td>GRC</td>\n",
       "      <td>300</td>\n",
       "    </tr>\n",
       "    <tr>\n",
       "      <th>4</th>\n",
       "      <td>Bicincittà</td>\n",
       "      <td>IT</td>\n",
       "      <td>Parco dei Colli di Bergamo</td>\n",
       "      <td>45.722956</td>\n",
       "      <td>9.649230</td>\n",
       "      <td>Italy</td>\n",
       "      <td>IT</td>\n",
       "      <td>ITA</td>\n",
       "      <td>380</td>\n",
       "    </tr>\n",
       "  </tbody>\n",
       "</table>\n",
       "</div>"
      ],
      "text/plain": [
       "         Name Country_left                        City   Latitude  Longitude  \\\n",
       "0    Velobike           RU                      Moscow  55.750000  37.616667   \n",
       "1  Bicincittà           IT                       Siena  43.318600  11.330600   \n",
       "2  Cyclopolis           GR                    Maroussi  38.056872  23.808330   \n",
       "3  Cyclopolis           GR                     Nafplio  37.563940  22.809340   \n",
       "4  Bicincittà           IT  Parco dei Colli di Bergamo  45.722956   9.649230   \n",
       "\n",
       "                    Country Alpha-2 Alpha-3  Numeric  \n",
       "0  Russian Federation (the)      RU     RUS      643  \n",
       "1                     Italy      IT     ITA      380  \n",
       "2                    Greece      GR     GRC      300  \n",
       "3                    Greece      GR     GRC      300  \n",
       "4                     Italy      IT     ITA      380  "
      ]
     },
     "execution_count": 9,
     "metadata": {},
     "output_type": "execute_result"
    }
   ],
   "source": [
    "# merges datasets\n",
    "bike = pd.merge(bike, countryFullName, left_on='Country', right_on='Alpha-2', how='inner', suffixes=['_left', ''])\n",
    "bike.head() # print the first 5 rows"
   ]
  },
  {
   "cell_type": "code",
   "execution_count": 10,
   "metadata": {},
   "outputs": [
    {
     "data": {
      "text/html": [
       "<div>\n",
       "<style scoped>\n",
       "    .dataframe tbody tr th:only-of-type {\n",
       "        vertical-align: middle;\n",
       "    }\n",
       "\n",
       "    .dataframe tbody tr th {\n",
       "        vertical-align: top;\n",
       "    }\n",
       "\n",
       "    .dataframe thead th {\n",
       "        text-align: right;\n",
       "    }\n",
       "</style>\n",
       "<table border=\"1\" class=\"dataframe\">\n",
       "  <thead>\n",
       "    <tr style=\"text-align: right;\">\n",
       "      <th></th>\n",
       "      <th>Name</th>\n",
       "      <th>City</th>\n",
       "      <th>Latitude</th>\n",
       "      <th>Longitude</th>\n",
       "      <th>Country</th>\n",
       "    </tr>\n",
       "  </thead>\n",
       "  <tbody>\n",
       "    <tr>\n",
       "      <th>0</th>\n",
       "      <td>Velobike</td>\n",
       "      <td>Moscow</td>\n",
       "      <td>55.750000</td>\n",
       "      <td>37.616667</td>\n",
       "      <td>Russian Federation (the)</td>\n",
       "    </tr>\n",
       "    <tr>\n",
       "      <th>1</th>\n",
       "      <td>Bicincittà</td>\n",
       "      <td>Siena</td>\n",
       "      <td>43.318600</td>\n",
       "      <td>11.330600</td>\n",
       "      <td>Italy</td>\n",
       "    </tr>\n",
       "    <tr>\n",
       "      <th>2</th>\n",
       "      <td>Cyclopolis</td>\n",
       "      <td>Maroussi</td>\n",
       "      <td>38.056872</td>\n",
       "      <td>23.808330</td>\n",
       "      <td>Greece</td>\n",
       "    </tr>\n",
       "    <tr>\n",
       "      <th>3</th>\n",
       "      <td>Cyclopolis</td>\n",
       "      <td>Nafplio</td>\n",
       "      <td>37.563940</td>\n",
       "      <td>22.809340</td>\n",
       "      <td>Greece</td>\n",
       "    </tr>\n",
       "    <tr>\n",
       "      <th>4</th>\n",
       "      <td>Bicincittà</td>\n",
       "      <td>Parco dei Colli di Bergamo</td>\n",
       "      <td>45.722956</td>\n",
       "      <td>9.649230</td>\n",
       "      <td>Italy</td>\n",
       "    </tr>\n",
       "  </tbody>\n",
       "</table>\n",
       "</div>"
      ],
      "text/plain": [
       "         Name                        City   Latitude  Longitude  \\\n",
       "0    Velobike                      Moscow  55.750000  37.616667   \n",
       "1  Bicincittà                       Siena  43.318600  11.330600   \n",
       "2  Cyclopolis                    Maroussi  38.056872  23.808330   \n",
       "3  Cyclopolis                     Nafplio  37.563940  22.809340   \n",
       "4  Bicincittà  Parco dei Colli di Bergamo  45.722956   9.649230   \n",
       "\n",
       "                    Country  \n",
       "0  Russian Federation (the)  \n",
       "1                     Italy  \n",
       "2                    Greece  \n",
       "3                    Greece  \n",
       "4                     Italy  "
      ]
     },
     "execution_count": 10,
     "metadata": {},
     "output_type": "execute_result"
    }
   ],
   "source": [
    "# drops columns along the axis \n",
    "bike.drop(['Country_left', 'Alpha-2', 'Alpha-3', 'Numeric'], axis=1, inplace=True)\n",
    "bike.head() # print the first 5 rows"
   ]
  },
  {
   "cell_type": "code",
   "execution_count": 11,
   "metadata": {},
   "outputs": [
    {
     "data": {
      "text/plain": [
       "array(['Russian Federation (the)', 'Italy', 'Greece', 'Ireland',\n",
       "       'Thailand', 'Poland',\n",
       "       'United Kingdom of Great Britain and Northern Ireland (the)',\n",
       "       'United States of America (the)', 'Germany', 'Kazakhstan',\n",
       "       'France', 'Spain', 'Mexico', 'Belgium', 'Sweden', 'Canada',\n",
       "       'Brazil', 'Chile', 'Norway', 'Argentina', 'Portugal', 'Luxembourg',\n",
       "       'Slovenia', 'Lithuania', 'Japan', 'Romania', 'Turkey', 'Finland',\n",
       "       'Israel', 'Slovakia', 'Netherlands (the)', 'Colombia', 'Georgia',\n",
       "       'Montenegro', 'Austria', 'Switzerland', 'Latvia', 'Cyprus',\n",
       "       'New Zealand', 'Croatia', 'Ukraine', 'Malta',\n",
       "       'Bosnia and Herzegovina', 'Hungary', 'Monaco', 'Czechia',\n",
       "       'Ecuador', 'Peru', 'Korea (the Republic of)',\n",
       "       'United Arab Emirates (the)', 'Saudi Arabia',\n",
       "       'Taiwan (Province of China)', 'Aruba', 'China', 'Costa Rica',\n",
       "       'India', 'Malaysia'], dtype=object)"
      ]
     },
     "execution_count": 11,
     "metadata": {},
     "output_type": "execute_result"
    }
   ],
   "source": [
    "bike.Country.unique() # list of unique countries in the dataset"
   ]
  },
  {
   "cell_type": "code",
   "execution_count": 12,
   "metadata": {},
   "outputs": [
    {
     "name": "stderr",
     "output_type": "stream",
     "text": [
      "C:\\Users\\Aduragbemi\\AppData\\Local\\Temp\\ipykernel_15984\\1269846909.py:2: FutureWarning: A value is trying to be set on a copy of a DataFrame or Series through chained assignment using an inplace method.\n",
      "The behavior will change in pandas 3.0. This inplace method will never work because the intermediate object on which we are setting values always behaves as a copy.\n",
      "\n",
      "For example, when doing 'df[col].method(value, inplace=True)', try using 'df.method({col: value}, inplace=True)' or df[col] = df[col].method(value) instead, to perform the operation inplace on the original object.\n",
      "\n",
      "\n",
      "  bike['Country'].replace({\n"
     ]
    },
    {
     "data": {
      "text/html": [
       "<div>\n",
       "<style scoped>\n",
       "    .dataframe tbody tr th:only-of-type {\n",
       "        vertical-align: middle;\n",
       "    }\n",
       "\n",
       "    .dataframe tbody tr th {\n",
       "        vertical-align: top;\n",
       "    }\n",
       "\n",
       "    .dataframe thead th {\n",
       "        text-align: right;\n",
       "    }\n",
       "</style>\n",
       "<table border=\"1\" class=\"dataframe\">\n",
       "  <thead>\n",
       "    <tr style=\"text-align: right;\">\n",
       "      <th></th>\n",
       "      <th>Name</th>\n",
       "      <th>City</th>\n",
       "      <th>Latitude</th>\n",
       "      <th>Longitude</th>\n",
       "      <th>Country</th>\n",
       "    </tr>\n",
       "  </thead>\n",
       "  <tbody>\n",
       "    <tr>\n",
       "      <th>0</th>\n",
       "      <td>Velobike</td>\n",
       "      <td>Moscow</td>\n",
       "      <td>55.750000</td>\n",
       "      <td>37.616667</td>\n",
       "      <td>Russia</td>\n",
       "    </tr>\n",
       "    <tr>\n",
       "      <th>1</th>\n",
       "      <td>Bicincittà</td>\n",
       "      <td>Siena</td>\n",
       "      <td>43.318600</td>\n",
       "      <td>11.330600</td>\n",
       "      <td>Italy</td>\n",
       "    </tr>\n",
       "    <tr>\n",
       "      <th>2</th>\n",
       "      <td>Cyclopolis</td>\n",
       "      <td>Maroussi</td>\n",
       "      <td>38.056872</td>\n",
       "      <td>23.808330</td>\n",
       "      <td>Greece</td>\n",
       "    </tr>\n",
       "    <tr>\n",
       "      <th>3</th>\n",
       "      <td>Cyclopolis</td>\n",
       "      <td>Nafplio</td>\n",
       "      <td>37.563940</td>\n",
       "      <td>22.809340</td>\n",
       "      <td>Greece</td>\n",
       "    </tr>\n",
       "    <tr>\n",
       "      <th>4</th>\n",
       "      <td>Bicincittà</td>\n",
       "      <td>Parco dei Colli di Bergamo</td>\n",
       "      <td>45.722956</td>\n",
       "      <td>9.649230</td>\n",
       "      <td>Italy</td>\n",
       "    </tr>\n",
       "  </tbody>\n",
       "</table>\n",
       "</div>"
      ],
      "text/plain": [
       "         Name                        City   Latitude  Longitude Country\n",
       "0    Velobike                      Moscow  55.750000  37.616667  Russia\n",
       "1  Bicincittà                       Siena  43.318600  11.330600   Italy\n",
       "2  Cyclopolis                    Maroussi  38.056872  23.808330  Greece\n",
       "3  Cyclopolis                     Nafplio  37.563940  22.809340  Greece\n",
       "4  Bicincittà  Parco dei Colli di Bergamo  45.722956   9.649230   Italy"
      ]
     },
     "execution_count": 12,
     "metadata": {},
     "output_type": "execute_result"
    }
   ],
   "source": [
    "# replaced country names to something more familiar\n",
    "bike['Country'].replace({\n",
    "    'Russian Federation (the)': 'Russia',\n",
    "    'United Kingdom of Great Britain and Northern Ireland (the)': 'United Kingdom',\n",
    "    'United States of America (the)': 'United States',\n",
    "    'Netherlands (the)': 'Netherlands',\n",
    "    'Korea (the Republic of)': 'Korea',\n",
    "    'United Arab Emirates (the)': 'United Arab Emirates',\n",
    "    'Taiwan (Province of China)': 'Taiwan'\n",
    "}, inplace=True)\n",
    "bike.head() # print the first 5 rows"
   ]
  },
  {
   "cell_type": "markdown",
   "metadata": {},
   "source": [
    "## **EXPLORATORY DATA ANALYSIS**"
   ]
  },
  {
   "cell_type": "code",
   "execution_count": 13,
   "metadata": {},
   "outputs": [
    {
     "name": "stdout",
     "output_type": "stream",
     "text": [
      "<class 'pandas.core.frame.DataFrame'>\n",
      "RangeIndex: 770 entries, 0 to 769\n",
      "Data columns (total 5 columns):\n",
      " #   Column     Non-Null Count  Dtype  \n",
      "---  ------     --------------  -----  \n",
      " 0   Name       770 non-null    object \n",
      " 1   City       770 non-null    object \n",
      " 2   Latitude   770 non-null    float64\n",
      " 3   Longitude  770 non-null    float64\n",
      " 4   Country    770 non-null    object \n",
      "dtypes: float64(2), object(3)\n",
      "memory usage: 30.2+ KB\n"
     ]
    }
   ],
   "source": [
    "bike.info() # quick dataset information"
   ]
  },
  {
   "cell_type": "markdown",
   "metadata": {},
   "source": [
    "> The result shows there are 770 rows and 5 features, no missing values, also the datatype of each feature appears to be appropriate.\n",
    "\n",
    "#### **HOW MANY UNIQUE COUNTRIES AND CITIES ARE IN THE DATAFRAME?**"
   ]
  },
  {
   "cell_type": "code",
   "execution_count": 14,
   "metadata": {},
   "outputs": [
    {
     "data": {
      "text/plain": [
       "57"
      ]
     },
     "execution_count": 14,
     "metadata": {},
     "output_type": "execute_result"
    }
   ],
   "source": [
    "bike['Country'].nunique() # gets the number of unique countries"
   ]
  },
  {
   "cell_type": "code",
   "execution_count": 15,
   "metadata": {},
   "outputs": [
    {
     "data": {
      "text/plain": [
       "750"
      ]
     },
     "execution_count": 15,
     "metadata": {},
     "output_type": "execute_result"
    }
   ],
   "source": [
    "bike['City'].nunique() # gets the number of unique cities"
   ]
  },
  {
   "cell_type": "markdown",
   "metadata": {},
   "source": [
    "> The outputs from the above cells tells that some countries and cities occurred more than once in the DataFrame, it would be a great idea to check for duplicates in the dataset so it doesn't affect the outcome of the analysis.\n",
    "\n",
    "#### **CHECK FOR DUPLICATES IN THE DATASET**"
   ]
  },
  {
   "cell_type": "code",
   "execution_count": 16,
   "metadata": {},
   "outputs": [
    {
     "data": {
      "text/plain": [
       "0"
      ]
     },
     "execution_count": 16,
     "metadata": {},
     "output_type": "execute_result"
    }
   ],
   "source": [
    "bike.duplicated().sum() "
   ]
  },
  {
   "cell_type": "markdown",
   "metadata": {},
   "source": [
    "> Even though the dataset have some countries and cities repeated, the result shows that there are no duplicate datapoint in the dataset."
   ]
  },
  {
   "cell_type": "markdown",
   "metadata": {},
   "source": [
    "## **DATA VISUALIZATION**\n",
    "\n",
    "> Exploring the data as visuals"
   ]
  },
  {
   "cell_type": "code",
   "execution_count": 17,
   "metadata": {},
   "outputs": [],
   "source": [
    "# sort values in ascending order and gets the index\n",
    "country_count = bike['Country'].value_counts().index "
   ]
  },
  {
   "cell_type": "code",
   "execution_count": 18,
   "metadata": {},
   "outputs": [
    {
     "data": {
      "image/png": "[encoded data removed]",
      "text/plain": [
       "<Figure size 2000x500 with 1 Axes>"
      ]
     },
     "metadata": {},
     "output_type": "display_data"
    }
   ],
   "source": [
    "plt.figure(figsize=(20, 5)) # changes the figure size\n",
    "sns.countplot(data=bike, x=bike['Country'], order=country_count);\n",
    "\n",
    "plt.title('Counts of Bike Networks in Countries');\n",
    "plt.xticks(rotation=90); # rotates the labels of the x-axis"
   ]
  },
  {
   "cell_type": "markdown",
   "metadata": {},
   "source": [
    "> Italy have the highest number of bike networks in the world according to the data from the API.\n",
    "\n",
    "### **TOP 10 COUNTRIES WITH BIKE NETWORKS**"
   ]
  },
  {
   "cell_type": "code",
   "execution_count": 19,
   "metadata": {},
   "outputs": [],
   "source": [
    "top10countries = bike.groupby('Country').count().sort_values(by='Name', ascending=False)\\\n",
    "                    .reset_index()[:10]"
   ]
  },
  {
   "cell_type": "code",
   "execution_count": 20,
   "metadata": {},
   "outputs": [
    {
     "data": {
      "text/html": [
       "<div>\n",
       "<style scoped>\n",
       "    .dataframe tbody tr th:only-of-type {\n",
       "        vertical-align: middle;\n",
       "    }\n",
       "\n",
       "    .dataframe tbody tr th {\n",
       "        vertical-align: top;\n",
       "    }\n",
       "\n",
       "    .dataframe thead th {\n",
       "        text-align: right;\n",
       "    }\n",
       "</style>\n",
       "<table border=\"1\" class=\"dataframe\">\n",
       "  <thead>\n",
       "    <tr style=\"text-align: right;\">\n",
       "      <th></th>\n",
       "      <th>Country</th>\n",
       "      <th>Name</th>\n",
       "      <th>City</th>\n",
       "      <th>Latitude</th>\n",
       "      <th>Longitude</th>\n",
       "    </tr>\n",
       "  </thead>\n",
       "  <tbody>\n",
       "    <tr>\n",
       "      <th>0</th>\n",
       "      <td>Italy</td>\n",
       "      <td>129</td>\n",
       "      <td>129</td>\n",
       "      <td>129</td>\n",
       "      <td>129</td>\n",
       "    </tr>\n",
       "    <tr>\n",
       "      <th>1</th>\n",
       "      <td>Germany</td>\n",
       "      <td>87</td>\n",
       "      <td>87</td>\n",
       "      <td>87</td>\n",
       "      <td>87</td>\n",
       "    </tr>\n",
       "    <tr>\n",
       "      <th>2</th>\n",
       "      <td>Spain</td>\n",
       "      <td>66</td>\n",
       "      <td>66</td>\n",
       "      <td>66</td>\n",
       "      <td>66</td>\n",
       "    </tr>\n",
       "    <tr>\n",
       "      <th>3</th>\n",
       "      <td>France</td>\n",
       "      <td>61</td>\n",
       "      <td>61</td>\n",
       "      <td>61</td>\n",
       "      <td>61</td>\n",
       "    </tr>\n",
       "    <tr>\n",
       "      <th>4</th>\n",
       "      <td>United States</td>\n",
       "      <td>59</td>\n",
       "      <td>59</td>\n",
       "      <td>59</td>\n",
       "      <td>59</td>\n",
       "    </tr>\n",
       "    <tr>\n",
       "      <th>5</th>\n",
       "      <td>Japan</td>\n",
       "      <td>43</td>\n",
       "      <td>43</td>\n",
       "      <td>43</td>\n",
       "      <td>43</td>\n",
       "    </tr>\n",
       "    <tr>\n",
       "      <th>6</th>\n",
       "      <td>Greece</td>\n",
       "      <td>30</td>\n",
       "      <td>30</td>\n",
       "      <td>30</td>\n",
       "      <td>30</td>\n",
       "    </tr>\n",
       "    <tr>\n",
       "      <th>7</th>\n",
       "      <td>United Kingdom</td>\n",
       "      <td>29</td>\n",
       "      <td>29</td>\n",
       "      <td>29</td>\n",
       "      <td>29</td>\n",
       "    </tr>\n",
       "    <tr>\n",
       "      <th>8</th>\n",
       "      <td>Czechia</td>\n",
       "      <td>27</td>\n",
       "      <td>27</td>\n",
       "      <td>27</td>\n",
       "      <td>27</td>\n",
       "    </tr>\n",
       "    <tr>\n",
       "      <th>9</th>\n",
       "      <td>Croatia</td>\n",
       "      <td>26</td>\n",
       "      <td>26</td>\n",
       "      <td>26</td>\n",
       "      <td>26</td>\n",
       "    </tr>\n",
       "  </tbody>\n",
       "</table>\n",
       "</div>"
      ],
      "text/plain": [
       "          Country  Name  City  Latitude  Longitude\n",
       "0           Italy   129   129       129        129\n",
       "1         Germany    87    87        87         87\n",
       "2           Spain    66    66        66         66\n",
       "3          France    61    61        61         61\n",
       "4   United States    59    59        59         59\n",
       "5           Japan    43    43        43         43\n",
       "6          Greece    30    30        30         30\n",
       "7  United Kingdom    29    29        29         29\n",
       "8         Czechia    27    27        27         27\n",
       "9         Croatia    26    26        26         26"
      ]
     },
     "execution_count": 20,
     "metadata": {},
     "output_type": "execute_result"
    }
   ],
   "source": [
    "top10countries # top 10 countries with bike sharing network"
   ]
  },
  {
   "cell_type": "code",
   "execution_count": 21,
   "metadata": {},
   "outputs": [
    {
     "data": {
      "image/png": "[encoded data removed]",
      "text/plain": [
       "<Figure size 640x480 with 1 Axes>"
      ]
     },
     "metadata": {},
     "output_type": "display_data"
    }
   ],
   "source": [
    "sns.barplot(data=top10countries, x=top10countries['Country'], y=top10countries['Name']);\n",
    "plt.title('Top 10 Countries With Bike Networks');\n",
    "plt.xticks(rotation=90); # rotates the x label\n",
    "plt.ylabel('Counts');"
   ]
  },
  {
   "cell_type": "markdown",
   "metadata": {},
   "source": [
    "> The top ten countries with bike networks are Italy, Germany, Spain, France, United States, Japan, Greece, United Kingdom, Czech Republic, Croatia.\n",
    "\n",
    "# **LOOKING INTO A PARTICULAR COMPANY**\n",
    "\n",
    "> I will be looking into companies in the United States for this analysis."
   ]
  },
  {
   "cell_type": "code",
   "execution_count": 22,
   "metadata": {},
   "outputs": [
    {
     "data": {
      "text/html": [
       "<div>\n",
       "<style scoped>\n",
       "    .dataframe tbody tr th:only-of-type {\n",
       "        vertical-align: middle;\n",
       "    }\n",
       "\n",
       "    .dataframe tbody tr th {\n",
       "        vertical-align: top;\n",
       "    }\n",
       "\n",
       "    .dataframe thead th {\n",
       "        text-align: right;\n",
       "    }\n",
       "</style>\n",
       "<table border=\"1\" class=\"dataframe\">\n",
       "  <thead>\n",
       "    <tr style=\"text-align: right;\">\n",
       "      <th></th>\n",
       "      <th>Name</th>\n",
       "      <th>City</th>\n",
       "      <th>Latitude</th>\n",
       "      <th>Longitude</th>\n",
       "      <th>Country</th>\n",
       "    </tr>\n",
       "  </thead>\n",
       "  <tbody>\n",
       "    <tr>\n",
       "      <th>27</th>\n",
       "      <td>WE-cycle</td>\n",
       "      <td>Aspen, CO</td>\n",
       "      <td>39.194951</td>\n",
       "      <td>-106.837002</td>\n",
       "      <td>United States</td>\n",
       "    </tr>\n",
       "    <tr>\n",
       "      <th>77</th>\n",
       "      <td>ATX MetroBike</td>\n",
       "      <td>Austin, TX</td>\n",
       "      <td>30.264080</td>\n",
       "      <td>-97.743550</td>\n",
       "      <td>United States</td>\n",
       "    </tr>\n",
       "    <tr>\n",
       "      <th>78</th>\n",
       "      <td>Bike Chattanooga</td>\n",
       "      <td>Chattanooga, TN</td>\n",
       "      <td>35.045630</td>\n",
       "      <td>-85.309680</td>\n",
       "      <td>United States</td>\n",
       "    </tr>\n",
       "    <tr>\n",
       "      <th>81</th>\n",
       "      <td>BIKETOWN</td>\n",
       "      <td>Portland, OR</td>\n",
       "      <td>45.521754</td>\n",
       "      <td>-122.681079</td>\n",
       "      <td>United States</td>\n",
       "    </tr>\n",
       "    <tr>\n",
       "      <th>83</th>\n",
       "      <td>Boulder BCycle</td>\n",
       "      <td>Boulder, CO</td>\n",
       "      <td>40.008110</td>\n",
       "      <td>-105.263850</td>\n",
       "      <td>United States</td>\n",
       "    </tr>\n",
       "    <tr>\n",
       "      <th>85</th>\n",
       "      <td>Broward BCycle</td>\n",
       "      <td>Fort Lauderdale, FL</td>\n",
       "      <td>26.120260</td>\n",
       "      <td>-80.148190</td>\n",
       "      <td>United States</td>\n",
       "    </tr>\n",
       "    <tr>\n",
       "      <th>86</th>\n",
       "      <td>Bublr Bikes</td>\n",
       "      <td>Milwaukee, WI</td>\n",
       "      <td>43.036900</td>\n",
       "      <td>-87.896670</td>\n",
       "      <td>United States</td>\n",
       "    </tr>\n",
       "  </tbody>\n",
       "</table>\n",
       "</div>"
      ],
      "text/plain": [
       "                Name                 City   Latitude   Longitude  \\\n",
       "27          WE-cycle            Aspen, CO  39.194951 -106.837002   \n",
       "77     ATX MetroBike           Austin, TX  30.264080  -97.743550   \n",
       "78  Bike Chattanooga      Chattanooga, TN  35.045630  -85.309680   \n",
       "81          BIKETOWN         Portland, OR  45.521754 -122.681079   \n",
       "83    Boulder BCycle          Boulder, CO  40.008110 -105.263850   \n",
       "85    Broward BCycle  Fort Lauderdale, FL  26.120260  -80.148190   \n",
       "86       Bublr Bikes        Milwaukee, WI  43.036900  -87.896670   \n",
       "\n",
       "          Country  \n",
       "27  United States  \n",
       "77  United States  \n",
       "78  United States  \n",
       "81  United States  \n",
       "83  United States  \n",
       "85  United States  \n",
       "86  United States  "
      ]
     },
     "execution_count": 22,
     "metadata": {},
     "output_type": "execute_result"
    }
   ],
   "source": [
    "bike.query('Country == \"United States\"').head(7) # checks for countries in the US"
   ]
  },
  {
   "cell_type": "markdown",
   "metadata": {},
   "source": [
    "> I will be using the _Bubler Bikes_ bike sharing network for my analysis, before that I need the network's id."
   ]
  },
  {
   "cell_type": "code",
   "execution_count": 23,
   "metadata": {},
   "outputs": [
    {
     "data": {
      "text/plain": [
       "{'company': ['BCycle, LLC'],\n",
       " 'gbfs_href': 'https://gbfs.bcycle.com/bcycle_bublr/gbfs.json',\n",
       " 'href': '/v2/networks/bublr-bikes',\n",
       " 'id': 'bublr-bikes',\n",
       " 'location': {'city': 'Milwaukee, WI',\n",
       "  'country': 'US',\n",
       "  'latitude': 43.0369,\n",
       "  'longitude': -87.89667},\n",
       " 'name': 'Bublr Bikes'}"
      ]
     },
     "execution_count": 23,
     "metadata": {},
     "output_type": "execute_result"
    }
   ],
   "source": [
    "response['networks'][86] # gets the 87th index of the API reponse"
   ]
  },
  {
   "cell_type": "markdown",
   "metadata": {},
   "source": [
    "## **BUBLR BIKE NETWORK**"
   ]
  },
  {
   "cell_type": "code",
   "execution_count": 24,
   "metadata": {},
   "outputs": [],
   "source": [
    "# the Bublr Bike Network url\n",
    "BBurl = \"http://api.citybik.es/v2/networks/bublr-bikes\""
   ]
  },
  {
   "cell_type": "code",
   "execution_count": 25,
   "metadata": {},
   "outputs": [
    {
     "data": {
      "text/plain": [
       "[{'empty_slots': 11,\n",
       "  'extra': {'address': '1420 N. Marshall St.',\n",
       "   'ebikes': 2,\n",
       "   'has_ebikes': True,\n",
       "   'last_updated': 1713380214,\n",
       "   'normal_bikes': 2,\n",
       "   'rental_uris': {'android': 'https://www.bcycle.com/applink?system_id=bcycle_bublr&station_id=bcycle_bublr_3326&platform=android',\n",
       "    'ios': 'https://www.bcycle.com/applink?system_id=bcycle_bublr&station_id=bcycle_bublr_3326&platform=iOS'},\n",
       "   'renting': 1,\n",
       "   'returning': 1,\n",
       "   'uid': 'bcycle_bublr_3326'},\n",
       "  'free_bikes': 4,\n",
       "  'id': '4b562f25ad06507ac8ab4b8a118b0f24',\n",
       "  'latitude': 43.0482,\n",
       "  'longitude': -87.90086,\n",
       "  'name': 'Ogden & Marshall',\n",
       "  'timestamp': '2024-04-17T18:57:03.317000Z'},\n",
       " {'empty_slots': 11,\n",
       "  'extra': {'address': '686 N. 8th St.',\n",
       "   'ebikes': 0,\n",
       "   'has_ebikes': True,\n",
       "   'last_updated': 1713380214,\n",
       "   'normal_bikes': 4,\n",
       "   'rental_uris': {'android': 'https://www.bcycle.com/applink?system_id=bcycle_bublr&station_id=bcycle_bublr_3327&platform=android',\n",
       "    'ios': 'https://www.bcycle.com/applink?system_id=bcycle_bublr&station_id=bcycle_bublr_3327&platform=iOS'},\n",
       "   'renting': 1,\n",
       "   'returning': 1,\n",
       "   'uid': 'bcycle_bublr_3327'},\n",
       "  'free_bikes': 4,\n",
       "  'id': '05f41a87020da478a66df49c4d8ca954',\n",
       "  'latitude': 43.03865,\n",
       "  'longitude': -87.92193,\n",
       "  'name': 'Central Library',\n",
       "  'timestamp': '2024-04-17T18:57:03.318000Z'},\n",
       " {'empty_slots': 10,\n",
       "  'extra': {'address': '1301 N. Prospect Avenue',\n",
       "   'ebikes': 2,\n",
       "   'has_ebikes': True,\n",
       "   'last_updated': 1713380214,\n",
       "   'normal_bikes': 1,\n",
       "   'rental_uris': {'android': 'https://www.bcycle.com/applink?system_id=bcycle_bublr&station_id=bcycle_bublr_3489&platform=android',\n",
       "    'ios': 'https://www.bcycle.com/applink?system_id=bcycle_bublr&station_id=bcycle_bublr_3489&platform=iOS'},\n",
       "   'renting': 1,\n",
       "   'returning': 1,\n",
       "   'uid': 'bcycle_bublr_3489'},\n",
       "  'free_bikes': 3,\n",
       "  'id': '0caf7f4dbbee769e742d2ab86105f7b9',\n",
       "  'latitude': 43.04782,\n",
       "  'longitude': -87.89565,\n",
       "  'name': 'Burns Commons',\n",
       "  'timestamp': '2024-04-17T18:57:03.319000Z'},\n",
       " {'empty_slots': 11,\n",
       "  'extra': {'address': '544 E. Ogden Ave.',\n",
       "   'ebikes': 0,\n",
       "   'has_ebikes': True,\n",
       "   'last_updated': 1713380214,\n",
       "   'normal_bikes': 4,\n",
       "   'rental_uris': {'android': 'https://www.bcycle.com/applink?system_id=bcycle_bublr&station_id=bcycle_bublr_3325&platform=android',\n",
       "    'ios': 'https://www.bcycle.com/applink?system_id=bcycle_bublr&station_id=bcycle_bublr_3325&platform=iOS'},\n",
       "   'renting': 1,\n",
       "   'returning': 1,\n",
       "   'uid': 'bcycle_bublr_3325'},\n",
       "  'free_bikes': 4,\n",
       "  'id': '3307366344ab05bc189479bf01163dbb',\n",
       "  'latitude': 43.04824,\n",
       "  'longitude': -87.90497,\n",
       "  'name': 'Ogden & Jackson',\n",
       "  'timestamp': '2024-04-17T18:57:03.320000Z'},\n",
       " {'empty_slots': 6,\n",
       "  'extra': {'address': '501 E. Erie Street',\n",
       "   'ebikes': 0,\n",
       "   'has_ebikes': True,\n",
       "   'last_updated': 1713380214,\n",
       "   'normal_bikes': 9,\n",
       "   'rental_uris': {'android': 'https://www.bcycle.com/applink?system_id=bcycle_bublr&station_id=bcycle_bublr_3322&platform=android',\n",
       "    'ios': 'https://www.bcycle.com/applink?system_id=bcycle_bublr&station_id=bcycle_bublr_3322&platform=iOS'},\n",
       "   'renting': 1,\n",
       "   'returning': 1,\n",
       "   'uid': 'bcycle_bublr_3322'},\n",
       "  'free_bikes': 9,\n",
       "  'id': '82969267299df0c4f81379299a9c4cf1',\n",
       "  'latitude': 43.02871,\n",
       "  'longitude': -87.9041,\n",
       "  'name': 'Trestle Park',\n",
       "  'timestamp': '2024-04-17T18:57:03.324000Z'}]"
      ]
     },
     "execution_count": 25,
     "metadata": {},
     "output_type": "execute_result"
    }
   ],
   "source": [
    "BBdata = requests.get(BBurl).json() # parsed data as JSON formatted\n",
    "BBdata['network']['stations'][:5] # selects the first 5 "
   ]
  },
  {
   "cell_type": "code",
   "execution_count": 26,
   "metadata": {},
   "outputs": [
    {
     "data": {
      "text/plain": [
       "{'empty_slots': 11,\n",
       " 'extra': {'address': '1420 N. Marshall St.',\n",
       "  'ebikes': 2,\n",
       "  'has_ebikes': True,\n",
       "  'last_updated': 1713380214,\n",
       "  'normal_bikes': 2,\n",
       "  'rental_uris': {'android': 'https://www.bcycle.com/applink?system_id=bcycle_bublr&station_id=bcycle_bublr_3326&platform=android',\n",
       "   'ios': 'https://www.bcycle.com/applink?system_id=bcycle_bublr&station_id=bcycle_bublr_3326&platform=iOS'},\n",
       "  'renting': 1,\n",
       "  'returning': 1,\n",
       "  'uid': 'bcycle_bublr_3326'},\n",
       " 'free_bikes': 4,\n",
       " 'id': '4b562f25ad06507ac8ab4b8a118b0f24',\n",
       " 'latitude': 43.0482,\n",
       " 'longitude': -87.90086,\n",
       " 'name': 'Ogden & Marshall',\n",
       " 'timestamp': '2024-04-17T18:57:03.317000Z'}"
      ]
     },
     "execution_count": 26,
     "metadata": {},
     "output_type": "execute_result"
    }
   ],
   "source": [
    "# gets the first station of the Bublr Bike Network\n",
    "BBdata['network']['stations'][0]"
   ]
  },
  {
   "cell_type": "markdown",
   "metadata": {},
   "source": [
    "> What each keys in the network represents:\n",
    "\n",
    "- empty_slots: The number of docks available for returning bikes.\n",
    "- extra: Contains miscellaneous additional information, often including the station’s address.\n",
    "- ebikes: The count of electric bikes available at the station.\n",
    "- has_ebikes: A boolean (true/false) indicating if there are electric bikes at the station.\n",
    "- last_updated: The Unix timestamp for when the station’s information was last updated.\n",
    "- normal_bikes: The number of standard, non-electric bikes available.\n",
    "- rental_uris: URLs for mobile applications to rent bikes.\n",
    "- renting: A boolean indicating if the station is currently allowing rentals.\n",
    "- returning: A boolean indicating if bikes can be returned at the moment.\n",
    "- uid: A unique identifier for the station.\n",
    "- free_bikes: The total number of bikes available for rent, including electric ones.\n",
    "- id: Another identifier for the station, possibly internal.\n",
    "- latitude and longitude: The geographical coordinates of the station.\n",
    "- name: The name of the station.\n",
    "- timestamp: The Unix timestamp for when this data snapshot was taken.\n",
    "\n",
    "## **FEATURE ENGINEERING**\n",
    "\n",
    "> Since some of the data in the dictionary are repeated, I will only be using a few of the values in the dictionary, these values includes:\n",
    "\n",
    "- uid\n",
    "- empty_slots\n",
    "- ebikes\n",
    "- has_ebikes\n",
    "- normal_bikes\n",
    "- renting\n",
    "- returning\n",
    "- latitude\n",
    "- longitude\n",
    "- free_bikes\n",
    "\n",
    "Using the latitude and longitude again because the geographical coordinates of the stations differ from each other."
   ]
  },
  {
   "cell_type": "code",
   "execution_count": 27,
   "metadata": {},
   "outputs": [],
   "source": [
    "# main DataFrame to hold collected data\n",
    "BBframe = pd.DataFrame()\n",
    "\n",
    "# loop through the stations\n",
    "for i in range(len(BBdata['network']['stations'])):\n",
    "    # creates a temporaty DataFrame\n",
    "    temp = pd.DataFrame(\n",
    "        {\n",
    "           'uid': [BBdata['network']['stations'][i]['extra']['uid']],\n",
    "           'empty_slots': [BBdata['network']['stations'][i]['empty_slots']],\n",
    "           'ebikes': [BBdata['network']['stations'][i]['extra']['ebikes']],\n",
    "           'has_ebikes': [BBdata['network']['stations'][i]['extra']['has_ebikes']],\n",
    "           'normal_bikes': [BBdata['network']['stations'][i]['extra']['normal_bikes']],\n",
    "           'renting': [BBdata['network']['stations'][i]['extra']['renting']],\n",
    "           'returning': [BBdata['network']['stations'][i]['extra']['returning']],\n",
    "           'latitude': [BBdata['network']['stations'][i]['latitude']],\n",
    "           'longitude': [BBdata['network']['stations'][i]['longitude']],\n",
    "           'free_bikes': [BBdata['network']['stations'][i]['free_bikes']]\n",
    "        }\n",
    "    )\n",
    "    # combines both the main and temporary DataFrame\n",
    "    BBframe = pd.concat([BBframe, temp], ignore_index=True)"
   ]
  },
  {
   "cell_type": "markdown",
   "metadata": {},
   "source": [
    "## **LOAD DATAFRAME**"
   ]
  },
  {
   "cell_type": "code",
   "execution_count": 28,
   "metadata": {},
   "outputs": [
    {
     "data": {
      "text/html": [
       "<div>\n",
       "<style scoped>\n",
       "    .dataframe tbody tr th:only-of-type {\n",
       "        vertical-align: middle;\n",
       "    }\n",
       "\n",
       "    .dataframe tbody tr th {\n",
       "        vertical-align: top;\n",
       "    }\n",
       "\n",
       "    .dataframe thead th {\n",
       "        text-align: right;\n",
       "    }\n",
       "</style>\n",
       "<table border=\"1\" class=\"dataframe\">\n",
       "  <thead>\n",
       "    <tr style=\"text-align: right;\">\n",
       "      <th></th>\n",
       "      <th>uid</th>\n",
       "      <th>empty_slots</th>\n",
       "      <th>ebikes</th>\n",
       "      <th>has_ebikes</th>\n",
       "      <th>normal_bikes</th>\n",
       "      <th>renting</th>\n",
       "      <th>returning</th>\n",
       "      <th>latitude</th>\n",
       "      <th>longitude</th>\n",
       "      <th>free_bikes</th>\n",
       "    </tr>\n",
       "  </thead>\n",
       "  <tbody>\n",
       "    <tr>\n",
       "      <th>0</th>\n",
       "      <td>bcycle_bublr_3326</td>\n",
       "      <td>11</td>\n",
       "      <td>2</td>\n",
       "      <td>True</td>\n",
       "      <td>2</td>\n",
       "      <td>1</td>\n",
       "      <td>1</td>\n",
       "      <td>43.04820</td>\n",
       "      <td>-87.90086</td>\n",
       "      <td>4</td>\n",
       "    </tr>\n",
       "    <tr>\n",
       "      <th>1</th>\n",
       "      <td>bcycle_bublr_3327</td>\n",
       "      <td>11</td>\n",
       "      <td>0</td>\n",
       "      <td>True</td>\n",
       "      <td>4</td>\n",
       "      <td>1</td>\n",
       "      <td>1</td>\n",
       "      <td>43.03865</td>\n",
       "      <td>-87.92193</td>\n",
       "      <td>4</td>\n",
       "    </tr>\n",
       "    <tr>\n",
       "      <th>2</th>\n",
       "      <td>bcycle_bublr_3489</td>\n",
       "      <td>10</td>\n",
       "      <td>2</td>\n",
       "      <td>True</td>\n",
       "      <td>1</td>\n",
       "      <td>1</td>\n",
       "      <td>1</td>\n",
       "      <td>43.04782</td>\n",
       "      <td>-87.89565</td>\n",
       "      <td>3</td>\n",
       "    </tr>\n",
       "    <tr>\n",
       "      <th>3</th>\n",
       "      <td>bcycle_bublr_3325</td>\n",
       "      <td>11</td>\n",
       "      <td>0</td>\n",
       "      <td>True</td>\n",
       "      <td>4</td>\n",
       "      <td>1</td>\n",
       "      <td>1</td>\n",
       "      <td>43.04824</td>\n",
       "      <td>-87.90497</td>\n",
       "      <td>4</td>\n",
       "    </tr>\n",
       "    <tr>\n",
       "      <th>4</th>\n",
       "      <td>bcycle_bublr_3322</td>\n",
       "      <td>6</td>\n",
       "      <td>0</td>\n",
       "      <td>True</td>\n",
       "      <td>9</td>\n",
       "      <td>1</td>\n",
       "      <td>1</td>\n",
       "      <td>43.02871</td>\n",
       "      <td>-87.90410</td>\n",
       "      <td>9</td>\n",
       "    </tr>\n",
       "  </tbody>\n",
       "</table>\n",
       "</div>"
      ],
      "text/plain": [
       "                 uid  empty_slots  ebikes  has_ebikes  normal_bikes  renting  \\\n",
       "0  bcycle_bublr_3326           11       2        True             2        1   \n",
       "1  bcycle_bublr_3327           11       0        True             4        1   \n",
       "2  bcycle_bublr_3489           10       2        True             1        1   \n",
       "3  bcycle_bublr_3325           11       0        True             4        1   \n",
       "4  bcycle_bublr_3322            6       0        True             9        1   \n",
       "\n",
       "   returning  latitude  longitude  free_bikes  \n",
       "0          1  43.04820  -87.90086           4  \n",
       "1          1  43.03865  -87.92193           4  \n",
       "2          1  43.04782  -87.89565           3  \n",
       "3          1  43.04824  -87.90497           4  \n",
       "4          1  43.02871  -87.90410           9  "
      ]
     },
     "execution_count": 28,
     "metadata": {},
     "output_type": "execute_result"
    }
   ],
   "source": [
    "BBframe.head() # print the first 5 rows"
   ]
  },
  {
   "cell_type": "code",
   "execution_count": 29,
   "metadata": {},
   "outputs": [
    {
     "data": {
      "text/plain": [
       "(117, 10)"
      ]
     },
     "execution_count": 29,
     "metadata": {},
     "output_type": "execute_result"
    }
   ],
   "source": [
    "BBframe.shape"
   ]
  },
  {
   "cell_type": "code",
   "execution_count": 30,
   "metadata": {},
   "outputs": [
    {
     "name": "stdout",
     "output_type": "stream",
     "text": [
      "<class 'pandas.core.frame.DataFrame'>\n",
      "RangeIndex: 117 entries, 0 to 116\n",
      "Data columns (total 10 columns):\n",
      " #   Column        Non-Null Count  Dtype  \n",
      "---  ------        --------------  -----  \n",
      " 0   uid           117 non-null    object \n",
      " 1   empty_slots   117 non-null    int64  \n",
      " 2   ebikes        117 non-null    int64  \n",
      " 3   has_ebikes    117 non-null    bool   \n",
      " 4   normal_bikes  117 non-null    int64  \n",
      " 5   renting       117 non-null    int64  \n",
      " 6   returning     117 non-null    int64  \n",
      " 7   latitude      117 non-null    float64\n",
      " 8   longitude     117 non-null    float64\n",
      " 9   free_bikes    117 non-null    int64  \n",
      "dtypes: bool(1), float64(2), int64(6), object(1)\n",
      "memory usage: 8.5+ KB\n"
     ]
    }
   ],
   "source": [
    "BBframe.info()"
   ]
  },
  {
   "cell_type": "code",
   "execution_count": 31,
   "metadata": {},
   "outputs": [
    {
     "data": {
      "text/html": [
       "<div>\n",
       "<style scoped>\n",
       "    .dataframe tbody tr th:only-of-type {\n",
       "        vertical-align: middle;\n",
       "    }\n",
       "\n",
       "    .dataframe tbody tr th {\n",
       "        vertical-align: top;\n",
       "    }\n",
       "\n",
       "    .dataframe thead th {\n",
       "        text-align: right;\n",
       "    }\n",
       "</style>\n",
       "<table border=\"1\" class=\"dataframe\">\n",
       "  <thead>\n",
       "    <tr style=\"text-align: right;\">\n",
       "      <th></th>\n",
       "      <th>empty_slots</th>\n",
       "      <th>ebikes</th>\n",
       "      <th>normal_bikes</th>\n",
       "      <th>renting</th>\n",
       "      <th>returning</th>\n",
       "      <th>latitude</th>\n",
       "      <th>longitude</th>\n",
       "      <th>free_bikes</th>\n",
       "    </tr>\n",
       "  </thead>\n",
       "  <tbody>\n",
       "    <tr>\n",
       "      <th>count</th>\n",
       "      <td>117.000000</td>\n",
       "      <td>117.000000</td>\n",
       "      <td>117.000000</td>\n",
       "      <td>117.0</td>\n",
       "      <td>117.0</td>\n",
       "      <td>117.000000</td>\n",
       "      <td>117.000000</td>\n",
       "      <td>117.000000</td>\n",
       "    </tr>\n",
       "    <tr>\n",
       "      <th>mean</th>\n",
       "      <td>7.606838</td>\n",
       "      <td>1.341880</td>\n",
       "      <td>3.948718</td>\n",
       "      <td>1.0</td>\n",
       "      <td>1.0</td>\n",
       "      <td>43.044118</td>\n",
       "      <td>-87.936371</td>\n",
       "      <td>5.290598</td>\n",
       "    </tr>\n",
       "    <tr>\n",
       "      <th>std</th>\n",
       "      <td>3.732331</td>\n",
       "      <td>1.515224</td>\n",
       "      <td>2.917977</td>\n",
       "      <td>0.0</td>\n",
       "      <td>0.0</td>\n",
       "      <td>0.018257</td>\n",
       "      <td>0.046122</td>\n",
       "      <td>3.082374</td>\n",
       "    </tr>\n",
       "    <tr>\n",
       "      <th>min</th>\n",
       "      <td>0.000000</td>\n",
       "      <td>0.000000</td>\n",
       "      <td>0.000000</td>\n",
       "      <td>1.0</td>\n",
       "      <td>1.0</td>\n",
       "      <td>42.993390</td>\n",
       "      <td>-88.043410</td>\n",
       "      <td>1.000000</td>\n",
       "    </tr>\n",
       "    <tr>\n",
       "      <th>25%</th>\n",
       "      <td>5.000000</td>\n",
       "      <td>0.000000</td>\n",
       "      <td>2.000000</td>\n",
       "      <td>1.0</td>\n",
       "      <td>1.0</td>\n",
       "      <td>43.031480</td>\n",
       "      <td>-87.976150</td>\n",
       "      <td>3.000000</td>\n",
       "    </tr>\n",
       "    <tr>\n",
       "      <th>50%</th>\n",
       "      <td>7.000000</td>\n",
       "      <td>1.000000</td>\n",
       "      <td>3.000000</td>\n",
       "      <td>1.0</td>\n",
       "      <td>1.0</td>\n",
       "      <td>43.045620</td>\n",
       "      <td>-87.916910</td>\n",
       "      <td>5.000000</td>\n",
       "    </tr>\n",
       "    <tr>\n",
       "      <th>75%</th>\n",
       "      <td>10.000000</td>\n",
       "      <td>2.000000</td>\n",
       "      <td>6.000000</td>\n",
       "      <td>1.0</td>\n",
       "      <td>1.0</td>\n",
       "      <td>43.057400</td>\n",
       "      <td>-87.904100</td>\n",
       "      <td>7.000000</td>\n",
       "    </tr>\n",
       "    <tr>\n",
       "      <th>max</th>\n",
       "      <td>22.000000</td>\n",
       "      <td>7.000000</td>\n",
       "      <td>12.000000</td>\n",
       "      <td>1.0</td>\n",
       "      <td>1.0</td>\n",
       "      <td>43.100150</td>\n",
       "      <td>-87.877300</td>\n",
       "      <td>13.000000</td>\n",
       "    </tr>\n",
       "  </tbody>\n",
       "</table>\n",
       "</div>"
      ],
      "text/plain": [
       "       empty_slots      ebikes  normal_bikes  renting  returning    latitude  \\\n",
       "count   117.000000  117.000000    117.000000    117.0      117.0  117.000000   \n",
       "mean      7.606838    1.341880      3.948718      1.0        1.0   43.044118   \n",
       "std       3.732331    1.515224      2.917977      0.0        0.0    0.018257   \n",
       "min       0.000000    0.000000      0.000000      1.0        1.0   42.993390   \n",
       "25%       5.000000    0.000000      2.000000      1.0        1.0   43.031480   \n",
       "50%       7.000000    1.000000      3.000000      1.0        1.0   43.045620   \n",
       "75%      10.000000    2.000000      6.000000      1.0        1.0   43.057400   \n",
       "max      22.000000    7.000000     12.000000      1.0        1.0   43.100150   \n",
       "\n",
       "        longitude  free_bikes  \n",
       "count  117.000000  117.000000  \n",
       "mean   -87.936371    5.290598  \n",
       "std      0.046122    3.082374  \n",
       "min    -88.043410    1.000000  \n",
       "25%    -87.976150    3.000000  \n",
       "50%    -87.916910    5.000000  \n",
       "75%    -87.904100    7.000000  \n",
       "max    -87.877300   13.000000  "
      ]
     },
     "execution_count": 31,
     "metadata": {},
     "output_type": "execute_result"
    }
   ],
   "source": [
    "BBframe.describe()"
   ]
  },
  {
   "cell_type": "markdown",
   "metadata": {},
   "source": [
    "## **DATA VISUALIZATION**\n",
    "\n",
    "> Distribution of the numerical features of the dataset."
   ]
  },
  {
   "cell_type": "code",
   "execution_count": 32,
   "metadata": {},
   "outputs": [
    {
     "data": {
      "image/png": "[encoded data removed]",
      "text/plain": [
       "<Figure size 640x480 with 1 Axes>"
      ]
     },
     "metadata": {},
     "output_type": "display_data"
    }
   ],
   "source": [
    "sns.histplot(data=BBframe, x=BBframe['empty_slots']);\n",
    "plt.title('Distribution of Empty Slots(Docks for Returning Bikes)');"
   ]
  },
  {
   "cell_type": "markdown",
   "metadata": {},
   "source": [
    "> The chart above informs that for stations in the Bublr bikes network, the highest number of empty slots for returning bikes is 7."
   ]
  },
  {
   "cell_type": "code",
   "execution_count": 33,
   "metadata": {},
   "outputs": [
    {
     "data": {
      "image/png": "[encoded data removed]",
      "text/plain": [
       "<Figure size 640x480 with 1 Axes>"
      ]
     },
     "metadata": {},
     "output_type": "display_data"
    }
   ],
   "source": [
    "sns.histplot(data=BBframe, x=BBframe['ebikes']);\n",
    "plt.title('Distribution of Electric Bikes');"
   ]
  },
  {
   "cell_type": "markdown",
   "metadata": {},
   "source": [
    "> Most stations in the Bublr bikes have no electric bikes in their stations and a few of the stations have 4 - 5 electric bikes."
   ]
  },
  {
   "cell_type": "code",
   "execution_count": 34,
   "metadata": {},
   "outputs": [
    {
     "data": {
      "image/png": "[encoded data removed]",
      "text/plain": [
       "<Figure size 640x480 with 1 Axes>"
      ]
     },
     "metadata": {},
     "output_type": "display_data"
    }
   ],
   "source": [
    "sns.histplot(data=BBframe, x=BBframe['normal_bikes'], binwidth=1);\n",
    "plt.title('Distribution of Normal Bikes');"
   ]
  },
  {
   "cell_type": "markdown",
   "metadata": {},
   "source": [
    "> The above shows that the distribution of the normal bikes in the stations are right skewed and most of the stations have 2 - 5 bikes available for renting."
   ]
  },
  {
   "cell_type": "code",
   "execution_count": 35,
   "metadata": {},
   "outputs": [
    {
     "data": {
      "image/png": "[encoded data removed]",
      "text/plain": [
       "<Figure size 640x480 with 1 Axes>"
      ]
     },
     "metadata": {},
     "output_type": "display_data"
    }
   ],
   "source": [
    "sns.histplot(data=BBframe, x=BBframe['free_bikes'], binwidth=1);\n",
    "plt.title('Number of Availale Bikes');"
   ]
  },
  {
   "cell_type": "markdown",
   "metadata": {},
   "source": [
    "> The plot above is right skewed and it also indicates that for most stations the number of available bikes for renting - both electric and normal bikes, is 3."
   ]
  }
 ],
 "metadata": {
  "kernelspec": {
   "display_name": "Python 3",
   "language": "python",
   "name": "python3"
  },
  "language_info": {
   "codemirror_mode": {
    "name": "ipython",
    "version": 3
   },
   "file_extension": ".py",
   "mimetype": "text/x-python",
   "name": "python",
   "nbconvert_exporter": "python",
   "pygments_lexer": "ipython3",
   "version": "3.12.2"
  }
 },
 "nbformat": 4,
 "nbformat_minor": 2
}
