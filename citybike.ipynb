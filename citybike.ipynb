{
 "cells": [
  {
   "cell_type": "markdown",
   "metadata": {},
   "source": [
    "# **CITY BIKE API**\n",
    "\n",
    "### **ABOUT CITY BIKE API**\n",
    "\n",
    "The city bike API is a  project that provides bike sharing data for apps, research and projects to use. To date Citybikes supports more than 400 cities and the Citybikes API is the most widely used dataset for building bike sharing transportation projects."
   ]
  },
  {
   "cell_type": "code",
   "execution_count": 44,
   "metadata": {},
   "outputs": [],
   "source": [
    "import requests\n",
    "import json\n",
    "import pandas as pd\n",
    "import matplotlib.pyplot as plt\n",
    "import seaborn as sns"
   ]
  },
  {
   "cell_type": "code",
   "execution_count": 20,
   "metadata": {},
   "outputs": [],
   "source": [
    "# API url\n",
    "url = \"http://api.citybik.es/v2/networks\""
   ]
  },
  {
   "cell_type": "code",
   "execution_count": 21,
   "metadata": {},
   "outputs": [
    {
     "data": {
      "text/plain": [
       "[{'company': ['ЗАО «СитиБайк»'],\n",
       "  'href': '/v2/networks/velobike-moscow',\n",
       "  'id': 'velobike-moscow',\n",
       "  'location': {'city': 'Moscow',\n",
       "   'country': 'RU',\n",
       "   'latitude': 55.75,\n",
       "   'longitude': 37.616667},\n",
       "  'name': 'Velobike'},\n",
       " {'company': ['Comunicare S.r.l.'],\n",
       "  'href': '/v2/networks/bicincitta-siena',\n",
       "  'id': 'bicincitta-siena',\n",
       "  'location': {'city': 'Siena',\n",
       "   'country': 'IT',\n",
       "   'latitude': 43.3186,\n",
       "   'longitude': 11.3306},\n",
       "  'name': 'Bicincittà',\n",
       "  'source': 'https://www.bicincitta.com/frmLeStazioni.aspx?ID=202'},\n",
       " {'company': ['Cyclopolis Systems'],\n",
       "  'href': '/v2/networks/cyclopolis-maroussi',\n",
       "  'id': 'cyclopolis-maroussi',\n",
       "  'location': {'city': 'Maroussi',\n",
       "   'country': 'GR',\n",
       "   'latitude': 38.0568722388,\n",
       "   'longitude': 23.8083299536},\n",
       "  'name': 'Cyclopolis'},\n",
       " {'company': ['Cyclopolis Systems'],\n",
       "  'href': '/v2/networks/cyclopolis-nafplio',\n",
       "  'id': 'cyclopolis-nafplio',\n",
       "  'location': {'city': 'Nafplio',\n",
       "   'country': 'GR',\n",
       "   'latitude': 37.5639397319,\n",
       "   'longitude': 22.8093402872},\n",
       "  'name': 'Cyclopolis'},\n",
       " {'company': ['Comunicare S.r.l.'],\n",
       "  'href': '/v2/networks/bicincitta-parco-dei-colli-di-bergamo',\n",
       "  'id': 'bicincitta-parco-dei-colli-di-bergamo',\n",
       "  'location': {'city': 'Parco dei Colli di Bergamo',\n",
       "   'country': 'IT',\n",
       "   'latitude': 45.72295637032245,\n",
       "   'longitude': 9.649230073016383},\n",
       "  'name': 'Bicincittà',\n",
       "  'source': 'https://www.bicincitta.com/frmLeStazioni.aspx?ID=203'}]"
      ]
     },
     "execution_count": 21,
     "metadata": {},
     "output_type": "execute_result"
    }
   ],
   "source": [
    "# parsed the data as JSON\n",
    "response = requests.get(url).json()\n",
    "# prints first 5 values\n",
    "response['networks'][:5]"
   ]
  },
  {
   "cell_type": "markdown",
   "metadata": {},
   "source": [
    "> From the documentation, the API provides field filtering parameter and from the list of features in the JSON formatted data, I am interested in the name of the company providing the bike and the location of the company."
   ]
  },
  {
   "cell_type": "code",
   "execution_count": 22,
   "metadata": {},
   "outputs": [],
   "source": [
    "# API url with the filter parameter\n",
    "urlFilter = \"http://api.citybik.es/v2/networks?fields=name,location\""
   ]
  },
  {
   "cell_type": "code",
   "execution_count": 23,
   "metadata": {},
   "outputs": [
    {
     "data": {
      "text/plain": [
       "[{'location': {'city': 'Moscow',\n",
       "   'country': 'RU',\n",
       "   'latitude': 55.75,\n",
       "   'longitude': 37.616667},\n",
       "  'name': 'Velobike'},\n",
       " {'location': {'city': 'Siena',\n",
       "   'country': 'IT',\n",
       "   'latitude': 43.3186,\n",
       "   'longitude': 11.3306},\n",
       "  'name': 'Bicincittà'},\n",
       " {'location': {'city': 'Maroussi',\n",
       "   'country': 'GR',\n",
       "   'latitude': 38.0568722388,\n",
       "   'longitude': 23.8083299536},\n",
       "  'name': 'Cyclopolis'},\n",
       " {'location': {'city': 'Nafplio',\n",
       "   'country': 'GR',\n",
       "   'latitude': 37.5639397319,\n",
       "   'longitude': 22.8093402872},\n",
       "  'name': 'Cyclopolis'},\n",
       " {'location': {'city': 'Parco dei Colli di Bergamo',\n",
       "   'country': 'IT',\n",
       "   'latitude': 45.72295637032245,\n",
       "   'longitude': 9.649230073016383},\n",
       "  'name': 'Bicincittà'}]"
      ]
     },
     "execution_count": 23,
     "metadata": {},
     "output_type": "execute_result"
    }
   ],
   "source": [
    "# parsed the data as JSON\n",
    "responseFilter = requests.get(urlFilter).json()\n",
    "# prints first 5 values\n",
    "responseFilter['networks'][:5]"
   ]
  },
  {
   "cell_type": "markdown",
   "metadata": {},
   "source": [
    "> The result above shows that location information is stored in a dictionary.\n",
    "\n",
    "## **PUT INFORMATION INTO A TABLE**"
   ]
  },
  {
   "cell_type": "code",
   "execution_count": 24,
   "metadata": {},
   "outputs": [
    {
     "data": {
      "text/html": [
       "<div>\n",
       "<style scoped>\n",
       "    .dataframe tbody tr th:only-of-type {\n",
       "        vertical-align: middle;\n",
       "    }\n",
       "\n",
       "    .dataframe tbody tr th {\n",
       "        vertical-align: top;\n",
       "    }\n",
       "\n",
       "    .dataframe thead th {\n",
       "        text-align: right;\n",
       "    }\n",
       "</style>\n",
       "<table border=\"1\" class=\"dataframe\">\n",
       "  <thead>\n",
       "    <tr style=\"text-align: right;\">\n",
       "      <th></th>\n",
       "      <th>Name</th>\n",
       "      <th>Country</th>\n",
       "      <th>City</th>\n",
       "      <th>Latitude</th>\n",
       "      <th>Longitude</th>\n",
       "    </tr>\n",
       "  </thead>\n",
       "  <tbody>\n",
       "    <tr>\n",
       "      <th>0</th>\n",
       "      <td>Velobike</td>\n",
       "      <td>RU</td>\n",
       "      <td>Moscow</td>\n",
       "      <td>55.750000</td>\n",
       "      <td>37.616667</td>\n",
       "    </tr>\n",
       "    <tr>\n",
       "      <th>1</th>\n",
       "      <td>Bicincittà</td>\n",
       "      <td>IT</td>\n",
       "      <td>Siena</td>\n",
       "      <td>43.318600</td>\n",
       "      <td>11.330600</td>\n",
       "    </tr>\n",
       "    <tr>\n",
       "      <th>2</th>\n",
       "      <td>Cyclopolis</td>\n",
       "      <td>GR</td>\n",
       "      <td>Maroussi</td>\n",
       "      <td>38.056872</td>\n",
       "      <td>23.808330</td>\n",
       "    </tr>\n",
       "    <tr>\n",
       "      <th>3</th>\n",
       "      <td>Cyclopolis</td>\n",
       "      <td>GR</td>\n",
       "      <td>Nafplio</td>\n",
       "      <td>37.563940</td>\n",
       "      <td>22.809340</td>\n",
       "    </tr>\n",
       "    <tr>\n",
       "      <th>4</th>\n",
       "      <td>Bicincittà</td>\n",
       "      <td>IT</td>\n",
       "      <td>Parco dei Colli di Bergamo</td>\n",
       "      <td>45.722956</td>\n",
       "      <td>9.649230</td>\n",
       "    </tr>\n",
       "  </tbody>\n",
       "</table>\n",
       "</div>"
      ],
      "text/plain": [
       "         Name Country                        City   Latitude  Longitude\n",
       "0    Velobike      RU                      Moscow  55.750000  37.616667\n",
       "1  Bicincittà      IT                       Siena  43.318600  11.330600\n",
       "2  Cyclopolis      GR                    Maroussi  38.056872  23.808330\n",
       "3  Cyclopolis      GR                     Nafplio  37.563940  22.809340\n",
       "4  Bicincittà      IT  Parco dei Colli di Bergamo  45.722956   9.649230"
      ]
     },
     "execution_count": 24,
     "metadata": {},
     "output_type": "execute_result"
    }
   ],
   "source": [
    "# create main dataframe\n",
    "bikeData = pd.DataFrame()\n",
    "\n",
    "# loop through the JSON formatted data\n",
    "for i in range(len(responseFilter['networks'])):\n",
    "    # create a temporary dataframe\n",
    "    temp = pd.DataFrame(\n",
    "        {\n",
    "            'Name': [responseFilter['networks'][i]['name']],\n",
    "            'Country': [responseFilter['networks'][i]['location']['country']],\n",
    "            'City': [responseFilter['networks'][i]['location']['city']],\n",
    "            'Latitude': [responseFilter['networks'][i]['location']['latitude']],\n",
    "            'Longitude': [responseFilter['networks'][i]['location']['longitude']]\n",
    "        }\n",
    "    )\n",
    "\n",
    "    # concatenate the temporary dataframe with the earlier created dataframe\n",
    "    bikeData = pd.concat([bikeData, temp], ignore_index=True)\n",
    "\n",
    "bikeData.head()"
   ]
  },
  {
   "cell_type": "markdown",
   "metadata": {},
   "source": [
    "## **EXPLORATORY DATA ANALYSIS**"
   ]
  },
  {
   "cell_type": "code",
   "execution_count": 25,
   "metadata": {},
   "outputs": [
    {
     "name": "stdout",
     "output_type": "stream",
     "text": [
      "<class 'pandas.core.frame.DataFrame'>\n",
      "RangeIndex: 770 entries, 0 to 769\n",
      "Data columns (total 5 columns):\n",
      " #   Column     Non-Null Count  Dtype  \n",
      "---  ------     --------------  -----  \n",
      " 0   Name       770 non-null    object \n",
      " 1   Country    770 non-null    object \n",
      " 2   City       770 non-null    object \n",
      " 3   Latitude   770 non-null    float64\n",
      " 4   Longitude  770 non-null    float64\n",
      "dtypes: float64(2), object(3)\n",
      "memory usage: 30.2+ KB\n"
     ]
    }
   ],
   "source": [
    "bikeData.info()"
   ]
  },
  {
   "cell_type": "markdown",
   "metadata": {},
   "source": [
    "> The result shows there are 770 rows and 5 features, no missing values, also the datatype of each feature appears to be appropriate.\n",
    "\n",
    "#### **HOW MANY UNIQUE COUNTRIES AND CITIES ARE IN THE DATAFRAME?**"
   ]
  },
  {
   "cell_type": "code",
   "execution_count": 26,
   "metadata": {},
   "outputs": [
    {
     "data": {
      "text/plain": [
       "57"
      ]
     },
     "execution_count": 26,
     "metadata": {},
     "output_type": "execute_result"
    }
   ],
   "source": [
    "bikeData['Country'].nunique()"
   ]
  },
  {
   "cell_type": "code",
   "execution_count": 27,
   "metadata": {},
   "outputs": [
    {
     "data": {
      "text/plain": [
       "750"
      ]
     },
     "execution_count": 27,
     "metadata": {},
     "output_type": "execute_result"
    }
   ],
   "source": [
    "bikeData['City'].nunique()"
   ]
  },
  {
   "cell_type": "markdown",
   "metadata": {},
   "source": [
    "> The outputs from the above cells tells that some countries and cities occurred more than once in the DataFrame, it would be a great idea to check for duplicates in the dataset so it doesn't affect the outcome of the analysis.\n",
    "\n",
    "#### **CHECK FOR DUPLICATES IN THE DATASET**"
   ]
  },
  {
   "cell_type": "code",
   "execution_count": 28,
   "metadata": {},
   "outputs": [
    {
     "data": {
      "text/plain": [
       "0"
      ]
     },
     "execution_count": 28,
     "metadata": {},
     "output_type": "execute_result"
    }
   ],
   "source": [
    "bikeData.duplicated().sum()"
   ]
  },
  {
   "cell_type": "markdown",
   "metadata": {},
   "source": [
    "> Even though the dataset have some countries and cities repeated, the result shows that there are no duplicate datapoint in the dataset."
   ]
  },
  {
   "cell_type": "markdown",
   "metadata": {},
   "source": [
    "## **DATA VISUALIZATION**\n",
    "\n",
    "> Exploring the data as visuals"
   ]
  },
  {
   "cell_type": "code",
   "execution_count": 41,
   "metadata": {},
   "outputs": [],
   "source": [
    "# sort values in ascending order and gets the index\n",
    "country_count = bikeData['Country'].value_counts().index "
   ]
  },
  {
   "cell_type": "code",
   "execution_count": 47,
   "metadata": {},
   "outputs": [
    {
     "data": {
      "image/png": "[encoded data removed]",
      "text/plain": [
       "<Figure size 2000x500 with 1 Axes>"
      ]
     },
     "metadata": {},
     "output_type": "display_data"
    }
   ],
   "source": [
    "plt.figure(figsize=(20, 5)) # changes the figure size\n",
    "sns.countplot(data=bikeData, x=bikeData['Country'], order=country_count);\n",
    "plt.title('Counts of Bike Networks in Countries');"
   ]
  },
  {
   "cell_type": "markdown",
   "metadata": {},
   "source": [
    "### **TOP 10 COUNTRIES WITH BIKE NETWORKS**"
   ]
  },
  {
   "cell_type": "code",
   "execution_count": 72,
   "metadata": {},
   "outputs": [],
   "source": [
    "top10countries = bikeData.groupby('Country').count().sort_values(by='Name', ascending=False)\\\n",
    "                    .reset_index()[:10]"
   ]
  },
  {
   "cell_type": "code",
   "execution_count": 73,
   "metadata": {},
   "outputs": [
    {
     "data": {
      "text/html": [
       "<div>\n",
       "<style scoped>\n",
       "    .dataframe tbody tr th:only-of-type {\n",
       "        vertical-align: middle;\n",
       "    }\n",
       "\n",
       "    .dataframe tbody tr th {\n",
       "        vertical-align: top;\n",
       "    }\n",
       "\n",
       "    .dataframe thead th {\n",
       "        text-align: right;\n",
       "    }\n",
       "</style>\n",
       "<table border=\"1\" class=\"dataframe\">\n",
       "  <thead>\n",
       "    <tr style=\"text-align: right;\">\n",
       "      <th></th>\n",
       "      <th>Country</th>\n",
       "      <th>Name</th>\n",
       "      <th>City</th>\n",
       "      <th>Latitude</th>\n",
       "      <th>Longitude</th>\n",
       "    </tr>\n",
       "  </thead>\n",
       "  <tbody>\n",
       "    <tr>\n",
       "      <th>0</th>\n",
       "      <td>IT</td>\n",
       "      <td>129</td>\n",
       "      <td>129</td>\n",
       "      <td>129</td>\n",
       "      <td>129</td>\n",
       "    </tr>\n",
       "    <tr>\n",
       "      <th>1</th>\n",
       "      <td>DE</td>\n",
       "      <td>87</td>\n",
       "      <td>87</td>\n",
       "      <td>87</td>\n",
       "      <td>87</td>\n",
       "    </tr>\n",
       "    <tr>\n",
       "      <th>2</th>\n",
       "      <td>ES</td>\n",
       "      <td>66</td>\n",
       "      <td>66</td>\n",
       "      <td>66</td>\n",
       "      <td>66</td>\n",
       "    </tr>\n",
       "    <tr>\n",
       "      <th>3</th>\n",
       "      <td>FR</td>\n",
       "      <td>61</td>\n",
       "      <td>61</td>\n",
       "      <td>61</td>\n",
       "      <td>61</td>\n",
       "    </tr>\n",
       "    <tr>\n",
       "      <th>4</th>\n",
       "      <td>US</td>\n",
       "      <td>59</td>\n",
       "      <td>59</td>\n",
       "      <td>59</td>\n",
       "      <td>59</td>\n",
       "    </tr>\n",
       "    <tr>\n",
       "      <th>5</th>\n",
       "      <td>JP</td>\n",
       "      <td>43</td>\n",
       "      <td>43</td>\n",
       "      <td>43</td>\n",
       "      <td>43</td>\n",
       "    </tr>\n",
       "    <tr>\n",
       "      <th>6</th>\n",
       "      <td>GR</td>\n",
       "      <td>30</td>\n",
       "      <td>30</td>\n",
       "      <td>30</td>\n",
       "      <td>30</td>\n",
       "    </tr>\n",
       "    <tr>\n",
       "      <th>7</th>\n",
       "      <td>GB</td>\n",
       "      <td>29</td>\n",
       "      <td>29</td>\n",
       "      <td>29</td>\n",
       "      <td>29</td>\n",
       "    </tr>\n",
       "    <tr>\n",
       "      <th>8</th>\n",
       "      <td>CZ</td>\n",
       "      <td>27</td>\n",
       "      <td>27</td>\n",
       "      <td>27</td>\n",
       "      <td>27</td>\n",
       "    </tr>\n",
       "    <tr>\n",
       "      <th>9</th>\n",
       "      <td>HR</td>\n",
       "      <td>26</td>\n",
       "      <td>26</td>\n",
       "      <td>26</td>\n",
       "      <td>26</td>\n",
       "    </tr>\n",
       "  </tbody>\n",
       "</table>\n",
       "</div>"
      ],
      "text/plain": [
       "  Country  Name  City  Latitude  Longitude\n",
       "0      IT   129   129       129        129\n",
       "1      DE    87    87        87         87\n",
       "2      ES    66    66        66         66\n",
       "3      FR    61    61        61         61\n",
       "4      US    59    59        59         59\n",
       "5      JP    43    43        43         43\n",
       "6      GR    30    30        30         30\n",
       "7      GB    29    29        29         29\n",
       "8      CZ    27    27        27         27\n",
       "9      HR    26    26        26         26"
      ]
     },
     "execution_count": 73,
     "metadata": {},
     "output_type": "execute_result"
    }
   ],
   "source": [
    "top10countries"
   ]
  },
  {
   "cell_type": "code",
   "execution_count": 77,
   "metadata": {},
   "outputs": [
    {
     "data": {
      "image/png": "[encoded data removed]",
      "text/plain": [
       "<Figure size 640x480 with 1 Axes>"
      ]
     },
     "metadata": {},
     "output_type": "display_data"
    }
   ],
   "source": [
    "sns.barplot(data=top10countries, x=top10countries['Country'], y=top10countries['Name']);\n",
    "plt.title('Top 10 Countries With Bike Networks');\n",
    "plt.ylabel('Counts');"
   ]
  },
  {
   "cell_type": "markdown",
   "metadata": {},
   "source": [
    "# **LOOKING INTO A PARTICULAR COMPANY**"
   ]
  }
 ],
 "metadata": {
  "kernelspec": {
   "display_name": "Python 3",
   "language": "python",
   "name": "python3"
  },
  "language_info": {
   "codemirror_mode": {
    "name": "ipython",
    "version": 3
   },
   "file_extension": ".py",
   "mimetype": "text/x-python",
   "name": "python",
   "nbconvert_exporter": "python",
   "pygments_lexer": "ipython3",
   "version": "3.12.2"
  }
 },
 "nbformat": 4,
 "nbformat_minor": 2
}
