{
 "cells": [
  {
   "cell_type": "markdown",
   "metadata": {},
   "source": [
    "# **CITY BIKE API**"
   ]
  },
  {
   "cell_type": "code",
   "execution_count": 30,
   "metadata": {},
   "outputs": [],
   "source": [
    "import requests\n",
    "import json\n",
    "import pandas as pd\n",
    "import matplotlib.pyplot as plt\n",
    "import seaborn as sns"
   ]
  },
  {
   "cell_type": "code",
   "execution_count": 31,
   "metadata": {},
   "outputs": [],
   "source": [
    "# API url\n",
    "url = \"http://api.citybik.es/v2/networks\""
   ]
  },
  {
   "cell_type": "code",
   "execution_count": 32,
   "metadata": {},
   "outputs": [
    {
     "data": {
      "text/plain": [
       "[{'company': ['ЗАО «СитиБайк»'],\n",
       "  'href': '/v2/networks/velobike-moscow',\n",
       "  'id': 'velobike-moscow',\n",
       "  'location': {'city': 'Moscow',\n",
       "   'country': 'RU',\n",
       "   'latitude': 55.75,\n",
       "   'longitude': 37.616667},\n",
       "  'name': 'Velobike'},\n",
       " {'company': ['Comunicare S.r.l.'],\n",
       "  'href': '/v2/networks/bicincitta-siena',\n",
       "  'id': 'bicincitta-siena',\n",
       "  'location': {'city': 'Siena',\n",
       "   'country': 'IT',\n",
       "   'latitude': 43.3186,\n",
       "   'longitude': 11.3306},\n",
       "  'name': 'Bicincittà',\n",
       "  'source': 'https://www.bicincitta.com/frmLeStazioni.aspx?ID=202'},\n",
       " {'company': ['Cyclopolis Systems'],\n",
       "  'href': '/v2/networks/cyclopolis-maroussi',\n",
       "  'id': 'cyclopolis-maroussi',\n",
       "  'location': {'city': 'Maroussi',\n",
       "   'country': 'GR',\n",
       "   'latitude': 38.0568722388,\n",
       "   'longitude': 23.8083299536},\n",
       "  'name': 'Cyclopolis'},\n",
       " {'company': ['Cyclopolis Systems'],\n",
       "  'href': '/v2/networks/cyclopolis-nafplio',\n",
       "  'id': 'cyclopolis-nafplio',\n",
       "  'location': {'city': 'Nafplio',\n",
       "   'country': 'GR',\n",
       "   'latitude': 37.5639397319,\n",
       "   'longitude': 22.8093402872},\n",
       "  'name': 'Cyclopolis'},\n",
       " {'company': ['Comunicare S.r.l.'],\n",
       "  'href': '/v2/networks/bicincitta-parco-dei-colli-di-bergamo',\n",
       "  'id': 'bicincitta-parco-dei-colli-di-bergamo',\n",
       "  'location': {'city': 'Parco dei Colli di Bergamo',\n",
       "   'country': 'IT',\n",
       "   'latitude': 45.72295637032245,\n",
       "   'longitude': 9.649230073016383},\n",
       "  'name': 'Bicincittà',\n",
       "  'source': 'https://www.bicincitta.com/frmLeStazioni.aspx?ID=203'}]"
      ]
     },
     "execution_count": 32,
     "metadata": {},
     "output_type": "execute_result"
    }
   ],
   "source": [
    "# parsed the data as JSON\n",
    "response = requests.get(url).json()\n",
    "# prints first 5 values\n",
    "response['networks'][:5]"
   ]
  },
  {
   "cell_type": "markdown",
   "metadata": {},
   "source": [
    "> From the documentation, the API provides field filtering parameter and from the list of features in the JSON formatted data, I am interested in the name of the company providing the bike and the location of the company."
   ]
  },
  {
   "cell_type": "code",
   "execution_count": 33,
   "metadata": {},
   "outputs": [],
   "source": [
    "# API url with the filter parameter\n",
    "urlFilter = \"http://api.citybik.es/v2/networks?fields=name,location\""
   ]
  },
  {
   "cell_type": "code",
   "execution_count": 34,
   "metadata": {},
   "outputs": [
    {
     "data": {
      "text/plain": [
       "[{'location': {'city': 'Moscow',\n",
       "   'country': 'RU',\n",
       "   'latitude': 55.75,\n",
       "   'longitude': 37.616667},\n",
       "  'name': 'Velobike'},\n",
       " {'location': {'city': 'Siena',\n",
       "   'country': 'IT',\n",
       "   'latitude': 43.3186,\n",
       "   'longitude': 11.3306},\n",
       "  'name': 'Bicincittà'},\n",
       " {'location': {'city': 'Maroussi',\n",
       "   'country': 'GR',\n",
       "   'latitude': 38.0568722388,\n",
       "   'longitude': 23.8083299536},\n",
       "  'name': 'Cyclopolis'},\n",
       " {'location': {'city': 'Nafplio',\n",
       "   'country': 'GR',\n",
       "   'latitude': 37.5639397319,\n",
       "   'longitude': 22.8093402872},\n",
       "  'name': 'Cyclopolis'},\n",
       " {'location': {'city': 'Parco dei Colli di Bergamo',\n",
       "   'country': 'IT',\n",
       "   'latitude': 45.72295637032245,\n",
       "   'longitude': 9.649230073016383},\n",
       "  'name': 'Bicincittà'}]"
      ]
     },
     "execution_count": 34,
     "metadata": {},
     "output_type": "execute_result"
    }
   ],
   "source": [
    "# parsed the data as JSON\n",
    "responseFilter = requests.get(urlFilter).json()\n",
    "# prints first 5 values\n",
    "responseFilter['networks'][:5]"
   ]
  },
  {
   "cell_type": "markdown",
   "metadata": {},
   "source": [
    "> The result above shows that location information is stored in a dictionary.\n",
    "\n",
    "## **PUT INFORMATION INTO A TABLE**"
   ]
  },
  {
   "cell_type": "code",
   "execution_count": 35,
   "metadata": {},
   "outputs": [
    {
     "data": {
      "text/html": [
       "<div>\n",
       "<style scoped>\n",
       "    .dataframe tbody tr th:only-of-type {\n",
       "        vertical-align: middle;\n",
       "    }\n",
       "\n",
       "    .dataframe tbody tr th {\n",
       "        vertical-align: top;\n",
       "    }\n",
       "\n",
       "    .dataframe thead th {\n",
       "        text-align: right;\n",
       "    }\n",
       "</style>\n",
       "<table border=\"1\" class=\"dataframe\">\n",
       "  <thead>\n",
       "    <tr style=\"text-align: right;\">\n",
       "      <th></th>\n",
       "      <th>Name</th>\n",
       "      <th>Country</th>\n",
       "      <th>City</th>\n",
       "      <th>Latitude</th>\n",
       "      <th>Longitude</th>\n",
       "    </tr>\n",
       "  </thead>\n",
       "  <tbody>\n",
       "    <tr>\n",
       "      <th>0</th>\n",
       "      <td>Velobike</td>\n",
       "      <td>RU</td>\n",
       "      <td>Moscow</td>\n",
       "      <td>55.750000</td>\n",
       "      <td>37.616667</td>\n",
       "    </tr>\n",
       "    <tr>\n",
       "      <th>1</th>\n",
       "      <td>Bicincittà</td>\n",
       "      <td>IT</td>\n",
       "      <td>Siena</td>\n",
       "      <td>43.318600</td>\n",
       "      <td>11.330600</td>\n",
       "    </tr>\n",
       "    <tr>\n",
       "      <th>2</th>\n",
       "      <td>Cyclopolis</td>\n",
       "      <td>GR</td>\n",
       "      <td>Maroussi</td>\n",
       "      <td>38.056872</td>\n",
       "      <td>23.808330</td>\n",
       "    </tr>\n",
       "    <tr>\n",
       "      <th>3</th>\n",
       "      <td>Cyclopolis</td>\n",
       "      <td>GR</td>\n",
       "      <td>Nafplio</td>\n",
       "      <td>37.563940</td>\n",
       "      <td>22.809340</td>\n",
       "    </tr>\n",
       "    <tr>\n",
       "      <th>4</th>\n",
       "      <td>Bicincittà</td>\n",
       "      <td>IT</td>\n",
       "      <td>Parco dei Colli di Bergamo</td>\n",
       "      <td>45.722956</td>\n",
       "      <td>9.649230</td>\n",
       "    </tr>\n",
       "  </tbody>\n",
       "</table>\n",
       "</div>"
      ],
      "text/plain": [
       "         Name Country                        City   Latitude  Longitude\n",
       "0    Velobike      RU                      Moscow  55.750000  37.616667\n",
       "1  Bicincittà      IT                       Siena  43.318600  11.330600\n",
       "2  Cyclopolis      GR                    Maroussi  38.056872  23.808330\n",
       "3  Cyclopolis      GR                     Nafplio  37.563940  22.809340\n",
       "4  Bicincittà      IT  Parco dei Colli di Bergamo  45.722956   9.649230"
      ]
     },
     "execution_count": 35,
     "metadata": {},
     "output_type": "execute_result"
    }
   ],
   "source": [
    "# create main dataframe\n",
    "bikeData = pd.DataFrame()\n",
    "\n",
    "# loop through the JSON formatted data\n",
    "for i in range(len(responseFilter['networks'])):\n",
    "    # create a temporary dataframe\n",
    "    temp = pd.DataFrame(\n",
    "        {\n",
    "            'Name': [responseFilter['networks'][i]['name']],\n",
    "            'Country': [responseFilter['networks'][i]['location']['country']],\n",
    "            'City': [responseFilter['networks'][i]['location']['city']],\n",
    "            'Latitude': [responseFilter['networks'][i]['location']['latitude']],\n",
    "            'Longitude': [responseFilter['networks'][i]['location']['longitude']]\n",
    "        }\n",
    "    )\n",
    "\n",
    "    # concatenate the temporary dataframe with the earlier created dataframe\n",
    "    bikeData = pd.concat([bikeData, temp], ignore_index=True)\n",
    "\n",
    "bikeData.head()"
   ]
  },
  {
   "cell_type": "markdown",
   "metadata": {},
   "source": [
    "## **EXPLORATORY DATA ANALYSIS**"
   ]
  },
  {
   "cell_type": "code",
   "execution_count": 36,
   "metadata": {},
   "outputs": [
    {
     "name": "stdout",
     "output_type": "stream",
     "text": [
      "<class 'pandas.core.frame.DataFrame'>\n",
      "RangeIndex: 770 entries, 0 to 769\n",
      "Data columns (total 5 columns):\n",
      " #   Column     Non-Null Count  Dtype  \n",
      "---  ------     --------------  -----  \n",
      " 0   Name       770 non-null    object \n",
      " 1   Country    770 non-null    object \n",
      " 2   City       770 non-null    object \n",
      " 3   Latitude   770 non-null    float64\n",
      " 4   Longitude  770 non-null    float64\n",
      "dtypes: float64(2), object(3)\n",
      "memory usage: 30.2+ KB\n"
     ]
    }
   ],
   "source": [
    "bikeData.info()"
   ]
  },
  {
   "cell_type": "markdown",
   "metadata": {},
   "source": [
    "> The result shows there are 770 rows and 5 features, no missing values, also the datatype of each feature appears to be appropriate.\n",
    "\n",
    "#### **HOW MANY UNIQUE COUNTRIES AND CITIES ARE IN THE DATAFRAME?**"
   ]
  },
  {
   "cell_type": "code",
   "execution_count": 37,
   "metadata": {},
   "outputs": [
    {
     "data": {
      "text/plain": [
       "57"
      ]
     },
     "execution_count": 37,
     "metadata": {},
     "output_type": "execute_result"
    }
   ],
   "source": [
    "bikeData['Country'].nunique()"
   ]
  },
  {
   "cell_type": "code",
   "execution_count": 38,
   "metadata": {},
   "outputs": [
    {
     "data": {
      "text/plain": [
       "750"
      ]
     },
     "execution_count": 38,
     "metadata": {},
     "output_type": "execute_result"
    }
   ],
   "source": [
    "bikeData['City'].nunique()"
   ]
  },
  {
   "cell_type": "markdown",
   "metadata": {},
   "source": [
    "> The outputs from the above cells tells that some countries and cities occurred more than once in the DataFrame, it would be a great idea to check for duplicates in the dataset so it doesn't affect the outcome of the analysis.\n",
    "\n",
    "#### **CHECK FOR DUPLICATES IN THE DATASET**"
   ]
  },
  {
   "cell_type": "code",
   "execution_count": 39,
   "metadata": {},
   "outputs": [
    {
     "data": {
      "text/plain": [
       "0"
      ]
     },
     "execution_count": 39,
     "metadata": {},
     "output_type": "execute_result"
    }
   ],
   "source": [
    "bikeData.duplicated().sum()"
   ]
  },
  {
   "cell_type": "markdown",
   "metadata": {},
   "source": [
    "> Even though the dataset have some countries and cities repeated, the result shows that there are no duplicate datapoint in the dataset."
   ]
  },
  {
   "cell_type": "markdown",
   "metadata": {},
   "source": [
    "## **DATA VISUALIZATION**\n",
    "\n",
    "> Exploring the data as visuals"
   ]
  },
  {
   "cell_type": "code",
   "execution_count": 40,
   "metadata": {},
   "outputs": [],
   "source": [
    "# sort values in ascending order and gets the index\n",
    "country_count = bikeData['Country'].value_counts().index "
   ]
  },
  {
   "cell_type": "code",
   "execution_count": 41,
   "metadata": {},
   "outputs": [
    {
     "data": {
      "image/png": "[encoded data removed]",
      "text/plain": [
       "<Figure size 2000x500 with 1 Axes>"
      ]
     },
     "metadata": {},
     "output_type": "display_data"
    }
   ],
   "source": [
    "plt.figure(figsize=(20, 5)) # changes the figure size\n",
    "sns.countplot(data=bikeData, x=bikeData['Country'], order=country_count);\n",
    "\n",
    "plt.title('Counts of Bike Networks in Countries');"
   ]
  },
  {
   "cell_type": "markdown",
   "metadata": {},
   "source": [
    "> Italy have the highest number of bike networks in the world according to the data from the API.\n",
    "\n",
    "### **TOP 10 COUNTRIES WITH BIKE NETWORKS**"
   ]
  },
  {
   "cell_type": "code",
   "execution_count": 42,
   "metadata": {},
   "outputs": [],
   "source": [
    "top10countries = bikeData.groupby('Country').count().sort_values(by='Name', ascending=False)\\\n",
    "                    .reset_index()[:10]"
   ]
  },
  {
   "cell_type": "code",
   "execution_count": 43,
   "metadata": {},
   "outputs": [
    {
     "data": {
      "text/html": [
       "<div>\n",
       "<style scoped>\n",
       "    .dataframe tbody tr th:only-of-type {\n",
       "        vertical-align: middle;\n",
       "    }\n",
       "\n",
       "    .dataframe tbody tr th {\n",
       "        vertical-align: top;\n",
       "    }\n",
       "\n",
       "    .dataframe thead th {\n",
       "        text-align: right;\n",
       "    }\n",
       "</style>\n",
       "<table border=\"1\" class=\"dataframe\">\n",
       "  <thead>\n",
       "    <tr style=\"text-align: right;\">\n",
       "      <th></th>\n",
       "      <th>Country</th>\n",
       "      <th>Name</th>\n",
       "      <th>City</th>\n",
       "      <th>Latitude</th>\n",
       "      <th>Longitude</th>\n",
       "    </tr>\n",
       "  </thead>\n",
       "  <tbody>\n",
       "    <tr>\n",
       "      <th>0</th>\n",
       "      <td>IT</td>\n",
       "      <td>129</td>\n",
       "      <td>129</td>\n",
       "      <td>129</td>\n",
       "      <td>129</td>\n",
       "    </tr>\n",
       "    <tr>\n",
       "      <th>1</th>\n",
       "      <td>DE</td>\n",
       "      <td>87</td>\n",
       "      <td>87</td>\n",
       "      <td>87</td>\n",
       "      <td>87</td>\n",
       "    </tr>\n",
       "    <tr>\n",
       "      <th>2</th>\n",
       "      <td>ES</td>\n",
       "      <td>66</td>\n",
       "      <td>66</td>\n",
       "      <td>66</td>\n",
       "      <td>66</td>\n",
       "    </tr>\n",
       "    <tr>\n",
       "      <th>3</th>\n",
       "      <td>FR</td>\n",
       "      <td>61</td>\n",
       "      <td>61</td>\n",
       "      <td>61</td>\n",
       "      <td>61</td>\n",
       "    </tr>\n",
       "    <tr>\n",
       "      <th>4</th>\n",
       "      <td>US</td>\n",
       "      <td>59</td>\n",
       "      <td>59</td>\n",
       "      <td>59</td>\n",
       "      <td>59</td>\n",
       "    </tr>\n",
       "    <tr>\n",
       "      <th>5</th>\n",
       "      <td>JP</td>\n",
       "      <td>43</td>\n",
       "      <td>43</td>\n",
       "      <td>43</td>\n",
       "      <td>43</td>\n",
       "    </tr>\n",
       "    <tr>\n",
       "      <th>6</th>\n",
       "      <td>GR</td>\n",
       "      <td>30</td>\n",
       "      <td>30</td>\n",
       "      <td>30</td>\n",
       "      <td>30</td>\n",
       "    </tr>\n",
       "    <tr>\n",
       "      <th>7</th>\n",
       "      <td>GB</td>\n",
       "      <td>29</td>\n",
       "      <td>29</td>\n",
       "      <td>29</td>\n",
       "      <td>29</td>\n",
       "    </tr>\n",
       "    <tr>\n",
       "      <th>8</th>\n",
       "      <td>CZ</td>\n",
       "      <td>27</td>\n",
       "      <td>27</td>\n",
       "      <td>27</td>\n",
       "      <td>27</td>\n",
       "    </tr>\n",
       "    <tr>\n",
       "      <th>9</th>\n",
       "      <td>HR</td>\n",
       "      <td>26</td>\n",
       "      <td>26</td>\n",
       "      <td>26</td>\n",
       "      <td>26</td>\n",
       "    </tr>\n",
       "  </tbody>\n",
       "</table>\n",
       "</div>"
      ],
      "text/plain": [
       "  Country  Name  City  Latitude  Longitude\n",
       "0      IT   129   129       129        129\n",
       "1      DE    87    87        87         87\n",
       "2      ES    66    66        66         66\n",
       "3      FR    61    61        61         61\n",
       "4      US    59    59        59         59\n",
       "5      JP    43    43        43         43\n",
       "6      GR    30    30        30         30\n",
       "7      GB    29    29        29         29\n",
       "8      CZ    27    27        27         27\n",
       "9      HR    26    26        26         26"
      ]
     },
     "execution_count": 43,
     "metadata": {},
     "output_type": "execute_result"
    }
   ],
   "source": [
    "top10countries"
   ]
  },
  {
   "cell_type": "code",
   "execution_count": 44,
   "metadata": {},
   "outputs": [
    {
     "data": {
      "image/png": "[encoded data removed]",
      "text/plain": [
       "<Figure size 640x480 with 1 Axes>"
      ]
     },
     "metadata": {},
     "output_type": "display_data"
    }
   ],
   "source": [
    "sns.barplot(data=top10countries, x=top10countries['Country'], y=top10countries['Name']);\n",
    "plt.title('Top 10 Countries With Bike Networks');\n",
    "plt.ylabel('Counts');"
   ]
  },
  {
   "cell_type": "markdown",
   "metadata": {},
   "source": [
    "> The top ten countries with bike networks are Italy, Germany, Spain, France, United States, Japan, Greece, United Kingdom, Czech Republic, Croatia.\n",
    "\n",
    "# **LOOKING INTO A PARTICULAR COMPANY**\n",
    "\n",
    "> I will be looking into companies in the US for this analysis."
   ]
  },
  {
   "cell_type": "code",
   "execution_count": 45,
   "metadata": {},
   "outputs": [
    {
     "data": {
      "text/html": [
       "<div>\n",
       "<style scoped>\n",
       "    .dataframe tbody tr th:only-of-type {\n",
       "        vertical-align: middle;\n",
       "    }\n",
       "\n",
       "    .dataframe tbody tr th {\n",
       "        vertical-align: top;\n",
       "    }\n",
       "\n",
       "    .dataframe thead th {\n",
       "        text-align: right;\n",
       "    }\n",
       "</style>\n",
       "<table border=\"1\" class=\"dataframe\">\n",
       "  <thead>\n",
       "    <tr style=\"text-align: right;\">\n",
       "      <th></th>\n",
       "      <th>Name</th>\n",
       "      <th>Country</th>\n",
       "      <th>City</th>\n",
       "      <th>Latitude</th>\n",
       "      <th>Longitude</th>\n",
       "    </tr>\n",
       "  </thead>\n",
       "  <tbody>\n",
       "    <tr>\n",
       "      <th>27</th>\n",
       "      <td>WE-cycle</td>\n",
       "      <td>US</td>\n",
       "      <td>Aspen, CO</td>\n",
       "      <td>39.194951</td>\n",
       "      <td>-106.837002</td>\n",
       "    </tr>\n",
       "    <tr>\n",
       "      <th>77</th>\n",
       "      <td>ATX MetroBike</td>\n",
       "      <td>US</td>\n",
       "      <td>Austin, TX</td>\n",
       "      <td>30.264080</td>\n",
       "      <td>-97.743550</td>\n",
       "    </tr>\n",
       "    <tr>\n",
       "      <th>78</th>\n",
       "      <td>Bike Chattanooga</td>\n",
       "      <td>US</td>\n",
       "      <td>Chattanooga, TN</td>\n",
       "      <td>35.045630</td>\n",
       "      <td>-85.309680</td>\n",
       "    </tr>\n",
       "    <tr>\n",
       "      <th>81</th>\n",
       "      <td>BIKETOWN</td>\n",
       "      <td>US</td>\n",
       "      <td>Portland, OR</td>\n",
       "      <td>45.521754</td>\n",
       "      <td>-122.681079</td>\n",
       "    </tr>\n",
       "    <tr>\n",
       "      <th>83</th>\n",
       "      <td>Boulder BCycle</td>\n",
       "      <td>US</td>\n",
       "      <td>Boulder, CO</td>\n",
       "      <td>40.008110</td>\n",
       "      <td>-105.263850</td>\n",
       "    </tr>\n",
       "    <tr>\n",
       "      <th>85</th>\n",
       "      <td>Broward BCycle</td>\n",
       "      <td>US</td>\n",
       "      <td>Fort Lauderdale, FL</td>\n",
       "      <td>26.120260</td>\n",
       "      <td>-80.148190</td>\n",
       "    </tr>\n",
       "    <tr>\n",
       "      <th>86</th>\n",
       "      <td>Bublr Bikes</td>\n",
       "      <td>US</td>\n",
       "      <td>Milwaukee, WI</td>\n",
       "      <td>43.036900</td>\n",
       "      <td>-87.896670</td>\n",
       "    </tr>\n",
       "  </tbody>\n",
       "</table>\n",
       "</div>"
      ],
      "text/plain": [
       "                Name Country                 City   Latitude   Longitude\n",
       "27          WE-cycle      US            Aspen, CO  39.194951 -106.837002\n",
       "77     ATX MetroBike      US           Austin, TX  30.264080  -97.743550\n",
       "78  Bike Chattanooga      US      Chattanooga, TN  35.045630  -85.309680\n",
       "81          BIKETOWN      US         Portland, OR  45.521754 -122.681079\n",
       "83    Boulder BCycle      US          Boulder, CO  40.008110 -105.263850\n",
       "85    Broward BCycle      US  Fort Lauderdale, FL  26.120260  -80.148190\n",
       "86       Bublr Bikes      US        Milwaukee, WI  43.036900  -87.896670"
      ]
     },
     "execution_count": 45,
     "metadata": {},
     "output_type": "execute_result"
    }
   ],
   "source": [
    "bikeData.query('Country == \"US\"').head(7)"
   ]
  },
  {
   "cell_type": "markdown",
   "metadata": {},
   "source": [
    "> I will be using the _Bubler Bikes_ bike sharing network for my analysis, before that I need the network's id."
   ]
  },
  {
   "cell_type": "code",
   "execution_count": 46,
   "metadata": {},
   "outputs": [
    {
     "data": {
      "text/plain": [
       "{'company': ['BCycle, LLC'],\n",
       " 'gbfs_href': 'https://gbfs.bcycle.com/bcycle_bublr/gbfs.json',\n",
       " 'href': '/v2/networks/bublr-bikes',\n",
       " 'id': 'bublr-bikes',\n",
       " 'location': {'city': 'Milwaukee, WI',\n",
       "  'country': 'US',\n",
       "  'latitude': 43.0369,\n",
       "  'longitude': -87.89667},\n",
       " 'name': 'Bublr Bikes'}"
      ]
     },
     "execution_count": 46,
     "metadata": {},
     "output_type": "execute_result"
    }
   ],
   "source": [
    "response['networks'][86]"
   ]
  },
  {
   "cell_type": "markdown",
   "metadata": {},
   "source": [
    "## **BUBLR BIKE NETWORK**"
   ]
  },
  {
   "cell_type": "code",
   "execution_count": 47,
   "metadata": {},
   "outputs": [],
   "source": [
    "# the Bublr Bike Network url\n",
    "BBurl = \"http://api.citybik.es/v2/networks/bublr-bikes\""
   ]
  },
  {
   "cell_type": "code",
   "execution_count": 48,
   "metadata": {},
   "outputs": [
    {
     "data": {
      "text/plain": [
       "[{'empty_slots': 13,\n",
       "  'extra': {'address': '1420 N. Marshall St.',\n",
       "   'ebikes': 1,\n",
       "   'has_ebikes': True,\n",
       "   'last_updated': 1712757453,\n",
       "   'normal_bikes': 1,\n",
       "   'rental_uris': {'android': 'https://www.bcycle.com/applink?system_id=bcycle_bublr&station_id=bcycle_bublr_3326&platform=android',\n",
       "    'ios': 'https://www.bcycle.com/applink?system_id=bcycle_bublr&station_id=bcycle_bublr_3326&platform=iOS'},\n",
       "   'renting': 1,\n",
       "   'returning': 1,\n",
       "   'uid': 'bcycle_bublr_3326'},\n",
       "  'free_bikes': 2,\n",
       "  'id': '4b562f25ad06507ac8ab4b8a118b0f24',\n",
       "  'latitude': 43.0482,\n",
       "  'longitude': -87.90086,\n",
       "  'name': 'Ogden & Marshall',\n",
       "  'timestamp': '2024-04-10T13:57:34.016000Z'},\n",
       " {'empty_slots': 9,\n",
       "  'extra': {'address': '686 N. 8th St.',\n",
       "   'ebikes': 1,\n",
       "   'has_ebikes': True,\n",
       "   'last_updated': 1712757453,\n",
       "   'normal_bikes': 5,\n",
       "   'rental_uris': {'android': 'https://www.bcycle.com/applink?system_id=bcycle_bublr&station_id=bcycle_bublr_3327&platform=android',\n",
       "    'ios': 'https://www.bcycle.com/applink?system_id=bcycle_bublr&station_id=bcycle_bublr_3327&platform=iOS'},\n",
       "   'renting': 1,\n",
       "   'returning': 1,\n",
       "   'uid': 'bcycle_bublr_3327'},\n",
       "  'free_bikes': 6,\n",
       "  'id': '05f41a87020da478a66df49c4d8ca954',\n",
       "  'latitude': 43.03865,\n",
       "  'longitude': -87.92193,\n",
       "  'name': 'Central Library',\n",
       "  'timestamp': '2024-04-10T13:57:34.028000Z'},\n",
       " {'empty_slots': 10,\n",
       "  'extra': {'address': '1301 N. Prospect Avenue',\n",
       "   'ebikes': 0,\n",
       "   'has_ebikes': True,\n",
       "   'last_updated': 1712757453,\n",
       "   'normal_bikes': 3,\n",
       "   'rental_uris': {'android': 'https://www.bcycle.com/applink?system_id=bcycle_bublr&station_id=bcycle_bublr_3489&platform=android',\n",
       "    'ios': 'https://www.bcycle.com/applink?system_id=bcycle_bublr&station_id=bcycle_bublr_3489&platform=iOS'},\n",
       "   'renting': 1,\n",
       "   'returning': 1,\n",
       "   'uid': 'bcycle_bublr_3489'},\n",
       "  'free_bikes': 3,\n",
       "  'id': '0caf7f4dbbee769e742d2ab86105f7b9',\n",
       "  'latitude': 43.04782,\n",
       "  'longitude': -87.89565,\n",
       "  'name': 'Burns Commons',\n",
       "  'timestamp': '2024-04-10T13:57:34.029000Z'},\n",
       " {'empty_slots': 11,\n",
       "  'extra': {'address': '544 E. Ogden Ave.',\n",
       "   'ebikes': 0,\n",
       "   'has_ebikes': True,\n",
       "   'last_updated': 1712757453,\n",
       "   'normal_bikes': 4,\n",
       "   'rental_uris': {'android': 'https://www.bcycle.com/applink?system_id=bcycle_bublr&station_id=bcycle_bublr_3325&platform=android',\n",
       "    'ios': 'https://www.bcycle.com/applink?system_id=bcycle_bublr&station_id=bcycle_bublr_3325&platform=iOS'},\n",
       "   'renting': 1,\n",
       "   'returning': 1,\n",
       "   'uid': 'bcycle_bublr_3325'},\n",
       "  'free_bikes': 4,\n",
       "  'id': '3307366344ab05bc189479bf01163dbb',\n",
       "  'latitude': 43.04824,\n",
       "  'longitude': -87.90497,\n",
       "  'name': 'Ogden & Jackson',\n",
       "  'timestamp': '2024-04-10T13:57:34.030000Z'},\n",
       " {'empty_slots': 2,\n",
       "  'extra': {'address': '501 E. Erie Street',\n",
       "   'ebikes': 2,\n",
       "   'has_ebikes': True,\n",
       "   'last_updated': 1712757453,\n",
       "   'normal_bikes': 11,\n",
       "   'rental_uris': {'android': 'https://www.bcycle.com/applink?system_id=bcycle_bublr&station_id=bcycle_bublr_3322&platform=android',\n",
       "    'ios': 'https://www.bcycle.com/applink?system_id=bcycle_bublr&station_id=bcycle_bublr_3322&platform=iOS'},\n",
       "   'renting': 1,\n",
       "   'returning': 1,\n",
       "   'uid': 'bcycle_bublr_3322'},\n",
       "  'free_bikes': 13,\n",
       "  'id': '82969267299df0c4f81379299a9c4cf1',\n",
       "  'latitude': 43.02871,\n",
       "  'longitude': -87.9041,\n",
       "  'name': 'Trestle Park',\n",
       "  'timestamp': '2024-04-10T13:57:34.031000Z'}]"
      ]
     },
     "execution_count": 48,
     "metadata": {},
     "output_type": "execute_result"
    }
   ],
   "source": [
    "BBdata = requests.get(BBurl).json()\n",
    "BBdata['network']['stations'][:5]"
   ]
  },
  {
   "cell_type": "code",
   "execution_count": 49,
   "metadata": {},
   "outputs": [
    {
     "data": {
      "text/plain": [
       "{'empty_slots': 13,\n",
       " 'extra': {'address': '1420 N. Marshall St.',\n",
       "  'ebikes': 1,\n",
       "  'has_ebikes': True,\n",
       "  'last_updated': 1712757453,\n",
       "  'normal_bikes': 1,\n",
       "  'rental_uris': {'android': 'https://www.bcycle.com/applink?system_id=bcycle_bublr&station_id=bcycle_bublr_3326&platform=android',\n",
       "   'ios': 'https://www.bcycle.com/applink?system_id=bcycle_bublr&station_id=bcycle_bublr_3326&platform=iOS'},\n",
       "  'renting': 1,\n",
       "  'returning': 1,\n",
       "  'uid': 'bcycle_bublr_3326'},\n",
       " 'free_bikes': 2,\n",
       " 'id': '4b562f25ad06507ac8ab4b8a118b0f24',\n",
       " 'latitude': 43.0482,\n",
       " 'longitude': -87.90086,\n",
       " 'name': 'Ogden & Marshall',\n",
       " 'timestamp': '2024-04-10T13:57:34.016000Z'}"
      ]
     },
     "execution_count": 49,
     "metadata": {},
     "output_type": "execute_result"
    }
   ],
   "source": [
    "# gets the first station of the Bublr Bike Network\n",
    "BBdata['network']['stations'][0]"
   ]
  },
  {
   "cell_type": "markdown",
   "metadata": {},
   "source": [
    "> What each keys in the network represents:\n",
    "\n",
    "- empty_slots: The number of docks available for returning bikes.\n",
    "- extra: Contains miscellaneous additional information, often including the station’s address.\n",
    "- ebikes: The count of electric bikes available at the station.\n",
    "- has_ebikes: A boolean (true/false) indicating if there are electric bikes at the station.\n",
    "- last_updated: The Unix timestamp for when the station’s information was last updated.\n",
    "- normal_bikes: The number of standard, non-electric bikes available.\n",
    "- rental_uris: URLs for mobile applications to rent bikes.\n",
    "- renting: A boolean indicating if the station is currently allowing rentals.\n",
    "- returning: A boolean indicating if bikes can be returned at the moment.\n",
    "- uid: A unique identifier for the station.\n",
    "- free_bikes: The total number of bikes available for rent, including electric ones.\n",
    "- id: Another identifier for the station, possibly internal.\n",
    "- latitude and longitude: The geographical coordinates of the station.\n",
    "- name: The name of the station.\n",
    "- timestamp: The Unix timestamp for when this data snapshot was taken.\n",
    "\n",
    "## **FEATURE ENGINEERING**\n",
    "\n",
    "> Since some of the data in the dictionary are repeated, I will only be using a few of the values in the dictionary, these values includes:\n",
    "\n",
    "- uid\n",
    "- empty_slots\n",
    "- ebikes\n",
    "- has_ebikes\n",
    "- normal_bikes\n",
    "- renting\n",
    "- returning\n",
    "- latitude\n",
    "- longitude\n",
    "- free_bikes\n",
    "\n",
    "Using the latitude and longitude again because the geographical coordinates of the stations differ from each other."
   ]
  },
  {
   "cell_type": "code",
   "execution_count": 50,
   "metadata": {},
   "outputs": [],
   "source": [
    "# main DataFrame to hold collected data\n",
    "BBframe = pd.DataFrame()\n",
    "\n",
    "# loop through the stations\n",
    "for i in range(len(BBdata['network']['stations'])):\n",
    "    # creates a temporaty DataFrame\n",
    "    temp = pd.DataFrame(\n",
    "        {\n",
    "           'uid': [BBdata['network']['stations'][i]['extra']['uid']],\n",
    "           'empty_slots': [BBdata['network']['stations'][i]['empty_slots']],\n",
    "           'ebikes': [BBdata['network']['stations'][i]['extra']['ebikes']],\n",
    "           'has_ebikes': [BBdata['network']['stations'][i]['extra']['has_ebikes']],\n",
    "           'normal_bikes': [BBdata['network']['stations'][i]['extra']['normal_bikes']],\n",
    "           'renting': [BBdata['network']['stations'][i]['extra']['renting']],\n",
    "           'returning': [BBdata['network']['stations'][i]['extra']['returning']],\n",
    "           'latitude': [BBdata['network']['stations'][i]['latitude']],\n",
    "           'longitude': [BBdata['network']['stations'][i]['longitude']],\n",
    "           'free_bikes': [BBdata['network']['stations'][i]['free_bikes']]\n",
    "        }\n",
    "    )\n",
    "    # combines both the main and temporary DataFrame\n",
    "    BBframe = pd.concat([BBframe, temp], ignore_index=True)"
   ]
  },
  {
   "cell_type": "markdown",
   "metadata": {},
   "source": [
    "## **LOAD DATAFRAME**"
   ]
  },
  {
   "cell_type": "code",
   "execution_count": 51,
   "metadata": {},
   "outputs": [
    {
     "data": {
      "text/html": [
       "<div>\n",
       "<style scoped>\n",
       "    .dataframe tbody tr th:only-of-type {\n",
       "        vertical-align: middle;\n",
       "    }\n",
       "\n",
       "    .dataframe tbody tr th {\n",
       "        vertical-align: top;\n",
       "    }\n",
       "\n",
       "    .dataframe thead th {\n",
       "        text-align: right;\n",
       "    }\n",
       "</style>\n",
       "<table border=\"1\" class=\"dataframe\">\n",
       "  <thead>\n",
       "    <tr style=\"text-align: right;\">\n",
       "      <th></th>\n",
       "      <th>uid</th>\n",
       "      <th>empty_slots</th>\n",
       "      <th>ebikes</th>\n",
       "      <th>has_ebikes</th>\n",
       "      <th>normal_bikes</th>\n",
       "      <th>renting</th>\n",
       "      <th>returning</th>\n",
       "      <th>latitude</th>\n",
       "      <th>longitude</th>\n",
       "      <th>free_bikes</th>\n",
       "    </tr>\n",
       "  </thead>\n",
       "  <tbody>\n",
       "    <tr>\n",
       "      <th>0</th>\n",
       "      <td>bcycle_bublr_3326</td>\n",
       "      <td>13</td>\n",
       "      <td>1</td>\n",
       "      <td>True</td>\n",
       "      <td>1</td>\n",
       "      <td>1</td>\n",
       "      <td>1</td>\n",
       "      <td>43.04820</td>\n",
       "      <td>-87.90086</td>\n",
       "      <td>2</td>\n",
       "    </tr>\n",
       "    <tr>\n",
       "      <th>1</th>\n",
       "      <td>bcycle_bublr_3327</td>\n",
       "      <td>9</td>\n",
       "      <td>1</td>\n",
       "      <td>True</td>\n",
       "      <td>5</td>\n",
       "      <td>1</td>\n",
       "      <td>1</td>\n",
       "      <td>43.03865</td>\n",
       "      <td>-87.92193</td>\n",
       "      <td>6</td>\n",
       "    </tr>\n",
       "    <tr>\n",
       "      <th>2</th>\n",
       "      <td>bcycle_bublr_3489</td>\n",
       "      <td>10</td>\n",
       "      <td>0</td>\n",
       "      <td>True</td>\n",
       "      <td>3</td>\n",
       "      <td>1</td>\n",
       "      <td>1</td>\n",
       "      <td>43.04782</td>\n",
       "      <td>-87.89565</td>\n",
       "      <td>3</td>\n",
       "    </tr>\n",
       "    <tr>\n",
       "      <th>3</th>\n",
       "      <td>bcycle_bublr_3325</td>\n",
       "      <td>11</td>\n",
       "      <td>0</td>\n",
       "      <td>True</td>\n",
       "      <td>4</td>\n",
       "      <td>1</td>\n",
       "      <td>1</td>\n",
       "      <td>43.04824</td>\n",
       "      <td>-87.90497</td>\n",
       "      <td>4</td>\n",
       "    </tr>\n",
       "    <tr>\n",
       "      <th>4</th>\n",
       "      <td>bcycle_bublr_3322</td>\n",
       "      <td>2</td>\n",
       "      <td>2</td>\n",
       "      <td>True</td>\n",
       "      <td>11</td>\n",
       "      <td>1</td>\n",
       "      <td>1</td>\n",
       "      <td>43.02871</td>\n",
       "      <td>-87.90410</td>\n",
       "      <td>13</td>\n",
       "    </tr>\n",
       "  </tbody>\n",
       "</table>\n",
       "</div>"
      ],
      "text/plain": [
       "                 uid  empty_slots  ebikes  has_ebikes  normal_bikes  renting  \\\n",
       "0  bcycle_bublr_3326           13       1        True             1        1   \n",
       "1  bcycle_bublr_3327            9       1        True             5        1   \n",
       "2  bcycle_bublr_3489           10       0        True             3        1   \n",
       "3  bcycle_bublr_3325           11       0        True             4        1   \n",
       "4  bcycle_bublr_3322            2       2        True            11        1   \n",
       "\n",
       "   returning  latitude  longitude  free_bikes  \n",
       "0          1  43.04820  -87.90086           2  \n",
       "1          1  43.03865  -87.92193           6  \n",
       "2          1  43.04782  -87.89565           3  \n",
       "3          1  43.04824  -87.90497           4  \n",
       "4          1  43.02871  -87.90410          13  "
      ]
     },
     "execution_count": 51,
     "metadata": {},
     "output_type": "execute_result"
    }
   ],
   "source": [
    "BBframe.head()"
   ]
  },
  {
   "cell_type": "code",
   "execution_count": 52,
   "metadata": {},
   "outputs": [
    {
     "data": {
      "text/plain": [
       "(117, 10)"
      ]
     },
     "execution_count": 52,
     "metadata": {},
     "output_type": "execute_result"
    }
   ],
   "source": [
    "BBframe.shape"
   ]
  },
  {
   "cell_type": "code",
   "execution_count": 53,
   "metadata": {},
   "outputs": [
    {
     "name": "stdout",
     "output_type": "stream",
     "text": [
      "<class 'pandas.core.frame.DataFrame'>\n",
      "RangeIndex: 117 entries, 0 to 116\n",
      "Data columns (total 10 columns):\n",
      " #   Column        Non-Null Count  Dtype  \n",
      "---  ------        --------------  -----  \n",
      " 0   uid           117 non-null    object \n",
      " 1   empty_slots   117 non-null    int64  \n",
      " 2   ebikes        117 non-null    int64  \n",
      " 3   has_ebikes    117 non-null    bool   \n",
      " 4   normal_bikes  117 non-null    int64  \n",
      " 5   renting       117 non-null    int64  \n",
      " 6   returning     117 non-null    int64  \n",
      " 7   latitude      117 non-null    float64\n",
      " 8   longitude     117 non-null    float64\n",
      " 9   free_bikes    117 non-null    int64  \n",
      "dtypes: bool(1), float64(2), int64(6), object(1)\n",
      "memory usage: 8.5+ KB\n"
     ]
    }
   ],
   "source": [
    "BBframe.info()"
   ]
  },
  {
   "cell_type": "code",
   "execution_count": 54,
   "metadata": {},
   "outputs": [
    {
     "data": {
      "text/html": [
       "<div>\n",
       "<style scoped>\n",
       "    .dataframe tbody tr th:only-of-type {\n",
       "        vertical-align: middle;\n",
       "    }\n",
       "\n",
       "    .dataframe tbody tr th {\n",
       "        vertical-align: top;\n",
       "    }\n",
       "\n",
       "    .dataframe thead th {\n",
       "        text-align: right;\n",
       "    }\n",
       "</style>\n",
       "<table border=\"1\" class=\"dataframe\">\n",
       "  <thead>\n",
       "    <tr style=\"text-align: right;\">\n",
       "      <th></th>\n",
       "      <th>empty_slots</th>\n",
       "      <th>ebikes</th>\n",
       "      <th>normal_bikes</th>\n",
       "      <th>renting</th>\n",
       "      <th>returning</th>\n",
       "      <th>latitude</th>\n",
       "      <th>longitude</th>\n",
       "      <th>free_bikes</th>\n",
       "    </tr>\n",
       "  </thead>\n",
       "  <tbody>\n",
       "    <tr>\n",
       "      <th>count</th>\n",
       "      <td>117.000000</td>\n",
       "      <td>117.000000</td>\n",
       "      <td>117.000000</td>\n",
       "      <td>117.000000</td>\n",
       "      <td>117.000000</td>\n",
       "      <td>117.000000</td>\n",
       "      <td>117.000000</td>\n",
       "      <td>117.000000</td>\n",
       "    </tr>\n",
       "    <tr>\n",
       "      <th>mean</th>\n",
       "      <td>7.769231</td>\n",
       "      <td>1.111111</td>\n",
       "      <td>4.059829</td>\n",
       "      <td>0.991453</td>\n",
       "      <td>0.991453</td>\n",
       "      <td>43.044118</td>\n",
       "      <td>-87.936371</td>\n",
       "      <td>5.170940</td>\n",
       "    </tr>\n",
       "    <tr>\n",
       "      <th>std</th>\n",
       "      <td>3.820057</td>\n",
       "      <td>1.194656</td>\n",
       "      <td>3.452362</td>\n",
       "      <td>0.092450</td>\n",
       "      <td>0.092450</td>\n",
       "      <td>0.018257</td>\n",
       "      <td>0.046122</td>\n",
       "      <td>3.509324</td>\n",
       "    </tr>\n",
       "    <tr>\n",
       "      <th>min</th>\n",
       "      <td>1.000000</td>\n",
       "      <td>0.000000</td>\n",
       "      <td>0.000000</td>\n",
       "      <td>0.000000</td>\n",
       "      <td>0.000000</td>\n",
       "      <td>42.993390</td>\n",
       "      <td>-88.043410</td>\n",
       "      <td>0.000000</td>\n",
       "    </tr>\n",
       "    <tr>\n",
       "      <th>25%</th>\n",
       "      <td>5.000000</td>\n",
       "      <td>0.000000</td>\n",
       "      <td>2.000000</td>\n",
       "      <td>1.000000</td>\n",
       "      <td>1.000000</td>\n",
       "      <td>43.031480</td>\n",
       "      <td>-87.976150</td>\n",
       "      <td>3.000000</td>\n",
       "    </tr>\n",
       "    <tr>\n",
       "      <th>50%</th>\n",
       "      <td>8.000000</td>\n",
       "      <td>1.000000</td>\n",
       "      <td>3.000000</td>\n",
       "      <td>1.000000</td>\n",
       "      <td>1.000000</td>\n",
       "      <td>43.045620</td>\n",
       "      <td>-87.916910</td>\n",
       "      <td>4.000000</td>\n",
       "    </tr>\n",
       "    <tr>\n",
       "      <th>75%</th>\n",
       "      <td>10.000000</td>\n",
       "      <td>2.000000</td>\n",
       "      <td>6.000000</td>\n",
       "      <td>1.000000</td>\n",
       "      <td>1.000000</td>\n",
       "      <td>43.057400</td>\n",
       "      <td>-87.904100</td>\n",
       "      <td>7.000000</td>\n",
       "    </tr>\n",
       "    <tr>\n",
       "      <th>max</th>\n",
       "      <td>20.000000</td>\n",
       "      <td>6.000000</td>\n",
       "      <td>18.000000</td>\n",
       "      <td>1.000000</td>\n",
       "      <td>1.000000</td>\n",
       "      <td>43.100150</td>\n",
       "      <td>-87.877300</td>\n",
       "      <td>19.000000</td>\n",
       "    </tr>\n",
       "  </tbody>\n",
       "</table>\n",
       "</div>"
      ],
      "text/plain": [
       "       empty_slots      ebikes  normal_bikes     renting   returning  \\\n",
       "count   117.000000  117.000000    117.000000  117.000000  117.000000   \n",
       "mean      7.769231    1.111111      4.059829    0.991453    0.991453   \n",
       "std       3.820057    1.194656      3.452362    0.092450    0.092450   \n",
       "min       1.000000    0.000000      0.000000    0.000000    0.000000   \n",
       "25%       5.000000    0.000000      2.000000    1.000000    1.000000   \n",
       "50%       8.000000    1.000000      3.000000    1.000000    1.000000   \n",
       "75%      10.000000    2.000000      6.000000    1.000000    1.000000   \n",
       "max      20.000000    6.000000     18.000000    1.000000    1.000000   \n",
       "\n",
       "         latitude   longitude  free_bikes  \n",
       "count  117.000000  117.000000  117.000000  \n",
       "mean    43.044118  -87.936371    5.170940  \n",
       "std      0.018257    0.046122    3.509324  \n",
       "min     42.993390  -88.043410    0.000000  \n",
       "25%     43.031480  -87.976150    3.000000  \n",
       "50%     43.045620  -87.916910    4.000000  \n",
       "75%     43.057400  -87.904100    7.000000  \n",
       "max     43.100150  -87.877300   19.000000  "
      ]
     },
     "execution_count": 54,
     "metadata": {},
     "output_type": "execute_result"
    }
   ],
   "source": [
    "BBframe.describe()"
   ]
  },
  {
   "cell_type": "markdown",
   "metadata": {},
   "source": [
    "## **DATA VISUALIZATION**\n",
    "\n",
    "> Distribution of the numerical features of the dataset."
   ]
  },
  {
   "cell_type": "code",
   "execution_count": 55,
   "metadata": {},
   "outputs": [
    {
     "data": {
      "image/png": "[encoded data removed]",
      "text/plain": [
       "<Figure size 640x480 with 1 Axes>"
      ]
     },
     "metadata": {},
     "output_type": "display_data"
    }
   ],
   "source": [
    "sns.histplot(data=BBframe, x=BBframe['empty_slots']);\n",
    "plt.title('Distribution of Empty Slots(Docks for Returning Bikes)');"
   ]
  },
  {
   "cell_type": "markdown",
   "metadata": {},
   "source": [
    "> The chart above informs that for stations in the Bublr bikes network, the highest number of empty slots for returning bikes is 7."
   ]
  },
  {
   "cell_type": "code",
   "execution_count": 56,
   "metadata": {},
   "outputs": [
    {
     "data": {
      "image/png": "[encoded data removed]",
      "text/plain": [
       "<Figure size 640x480 with 1 Axes>"
      ]
     },
     "metadata": {},
     "output_type": "display_data"
    }
   ],
   "source": [
    "sns.histplot(data=BBframe, x=BBframe['ebikes']);\n",
    "plt.title('Distribution of Electric Bikes');"
   ]
  },
  {
   "cell_type": "markdown",
   "metadata": {},
   "source": [
    "> Most stations in the Bublr bikes have no electric bikes in their stations and a few of the stations have 4 - 5 electric bikes."
   ]
  },
  {
   "cell_type": "code",
   "execution_count": 57,
   "metadata": {},
   "outputs": [
    {
     "data": {
      "image/png": "[encoded data removed]",
      "text/plain": [
       "<Figure size 640x480 with 1 Axes>"
      ]
     },
     "metadata": {},
     "output_type": "display_data"
    }
   ],
   "source": [
    "sns.histplot(data=BBframe, x=BBframe['normal_bikes']);\n",
    "plt.title('Distribution of Normal Bikes');"
   ]
  },
  {
   "cell_type": "markdown",
   "metadata": {},
   "source": [
    "> The above shows that the distribution of the normal bikes in the stations are right skewed and most of the stations have 2 - 6 bikes available for renting."
   ]
  },
  {
   "cell_type": "code",
   "execution_count": 58,
   "metadata": {},
   "outputs": [
    {
     "data": {
      "image/png": "[encoded data removed]",
      "text/plain": [
       "<Figure size 640x480 with 1 Axes>"
      ]
     },
     "metadata": {},
     "output_type": "display_data"
    }
   ],
   "source": [
    "sns.histplot(data=BBframe, x=BBframe['free_bikes']);\n",
    "plt.title('Number of Availale Bikes');"
   ]
  },
  {
   "cell_type": "markdown",
   "metadata": {},
   "source": [
    "> The plot above is right skewed and it also indicates that for most stations the number of available bikes for renting - both electric and normal bikes, is 3."
   ]
  }
 ],
 "metadata": {
  "kernelspec": {
   "display_name": "Python 3",
   "language": "python",
   "name": "python3"
  },
  "language_info": {
   "codemirror_mode": {
    "name": "ipython",
    "version": 3
   },
   "file_extension": ".py",
   "mimetype": "text/x-python",
   "name": "python",
   "nbconvert_exporter": "python",
   "pygments_lexer": "ipython3",
   "version": "3.12.2"
  }
 },
 "nbformat": 4,
 "nbformat_minor": 2
}
