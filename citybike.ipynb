{
 "cells": [
  {
   "cell_type": "markdown",
   "metadata": {},
   "source": [
    "## **CITY BIKE API**\n",
    "\n",
    "### **ABOUT CITY BIKE API**\n",
    "\n",
    "The city bike API is a  project that provides bike sharing data for apps, research and projects to use. To date Citybikes supports more than 400 cities and the Citybikes API is the most widely used dataset for building bike sharing transportation projects."
   ]
  },
  {
   "cell_type": "code",
   "execution_count": 1,
   "metadata": {},
   "outputs": [],
   "source": [
    "import requests\n",
    "import json\n",
    "import pandas as pd"
   ]
  },
  {
   "cell_type": "code",
   "execution_count": 2,
   "metadata": {},
   "outputs": [],
   "source": [
    "# API url\n",
    "url = \"http://api.citybik.es/v2/networks\""
   ]
  },
  {
   "cell_type": "code",
   "execution_count": 14,
   "metadata": {},
   "outputs": [
    {
     "data": {
      "text/plain": [
       "[{'company': ['ЗАО «СитиБайк»'],\n",
       "  'href': '/v2/networks/velobike-moscow',\n",
       "  'id': 'velobike-moscow',\n",
       "  'location': {'city': 'Moscow',\n",
       "   'country': 'RU',\n",
       "   'latitude': 55.75,\n",
       "   'longitude': 37.616667},\n",
       "  'name': 'Velobike'},\n",
       " {'company': ['Comunicare S.r.l.'],\n",
       "  'href': '/v2/networks/bicincitta-siena',\n",
       "  'id': 'bicincitta-siena',\n",
       "  'location': {'city': 'Siena',\n",
       "   'country': 'IT',\n",
       "   'latitude': 43.3186,\n",
       "   'longitude': 11.3306},\n",
       "  'name': 'Bicincittà',\n",
       "  'source': 'https://www.bicincitta.com/frmLeStazioni.aspx?ID=202'},\n",
       " {'company': ['Cyclopolis Systems'],\n",
       "  'href': '/v2/networks/cyclopolis-maroussi',\n",
       "  'id': 'cyclopolis-maroussi',\n",
       "  'location': {'city': 'Maroussi',\n",
       "   'country': 'GR',\n",
       "   'latitude': 38.0568722388,\n",
       "   'longitude': 23.8083299536},\n",
       "  'name': 'Cyclopolis'},\n",
       " {'company': ['Cyclopolis Systems'],\n",
       "  'href': '/v2/networks/cyclopolis-nafplio',\n",
       "  'id': 'cyclopolis-nafplio',\n",
       "  'location': {'city': 'Nafplio',\n",
       "   'country': 'GR',\n",
       "   'latitude': 37.5639397319,\n",
       "   'longitude': 22.8093402872},\n",
       "  'name': 'Cyclopolis'},\n",
       " {'company': ['Comunicare S.r.l.'],\n",
       "  'href': '/v2/networks/bicincitta-parco-dei-colli-di-bergamo',\n",
       "  'id': 'bicincitta-parco-dei-colli-di-bergamo',\n",
       "  'location': {'city': 'Parco dei Colli di Bergamo',\n",
       "   'country': 'IT',\n",
       "   'latitude': 45.72295637032245,\n",
       "   'longitude': 9.649230073016383},\n",
       "  'name': 'Bicincittà',\n",
       "  'source': 'https://www.bicincitta.com/frmLeStazioni.aspx?ID=203'}]"
      ]
     },
     "execution_count": 14,
     "metadata": {},
     "output_type": "execute_result"
    }
   ],
   "source": [
    "# parsed the data as JSON\n",
    "response = requests.get(url).json()\n",
    "# prints first 5 values\n",
    "response['networks'][:5]"
   ]
  },
  {
   "cell_type": "markdown",
   "metadata": {},
   "source": [
    "> From the documentation, the API provides field filtering parameter and from the list of features in the JSON formatted data, I am interested in the name of the company providing the bike and the location of the company."
   ]
  },
  {
   "cell_type": "code",
   "execution_count": 4,
   "metadata": {},
   "outputs": [],
   "source": [
    "# API url with the filter parameter\n",
    "urlFilter = \"http://api.citybik.es/v2/networks?fields=name,location\""
   ]
  },
  {
   "cell_type": "code",
   "execution_count": 15,
   "metadata": {},
   "outputs": [
    {
     "data": {
      "text/plain": [
       "[{'location': {'city': 'Moscow',\n",
       "   'country': 'RU',\n",
       "   'latitude': 55.75,\n",
       "   'longitude': 37.616667},\n",
       "  'name': 'Velobike'},\n",
       " {'location': {'city': 'Siena',\n",
       "   'country': 'IT',\n",
       "   'latitude': 43.3186,\n",
       "   'longitude': 11.3306},\n",
       "  'name': 'Bicincittà'},\n",
       " {'location': {'city': 'Maroussi',\n",
       "   'country': 'GR',\n",
       "   'latitude': 38.0568722388,\n",
       "   'longitude': 23.8083299536},\n",
       "  'name': 'Cyclopolis'},\n",
       " {'location': {'city': 'Nafplio',\n",
       "   'country': 'GR',\n",
       "   'latitude': 37.5639397319,\n",
       "   'longitude': 22.8093402872},\n",
       "  'name': 'Cyclopolis'},\n",
       " {'location': {'city': 'Parco dei Colli di Bergamo',\n",
       "   'country': 'IT',\n",
       "   'latitude': 45.72295637032245,\n",
       "   'longitude': 9.649230073016383},\n",
       "  'name': 'Bicincittà'}]"
      ]
     },
     "execution_count": 15,
     "metadata": {},
     "output_type": "execute_result"
    }
   ],
   "source": [
    "# parsed the data as JSON\n",
    "responseFilter = requests.get(urlFilter).json()\n",
    "# prints first 5 values\n",
    "responseFilter['networks'][:5]"
   ]
  },
  {
   "cell_type": "markdown",
   "metadata": {},
   "source": [
    "> The result above shows that location information is stored in a dictionary.\n",
    "\n",
    "### **PUT INFORMATION INTO A TABLE**"
   ]
  },
  {
   "cell_type": "code",
   "execution_count": 12,
   "metadata": {},
   "outputs": [
    {
     "data": {
      "text/html": [
       "<div>\n",
       "<style scoped>\n",
       "    .dataframe tbody tr th:only-of-type {\n",
       "        vertical-align: middle;\n",
       "    }\n",
       "\n",
       "    .dataframe tbody tr th {\n",
       "        vertical-align: top;\n",
       "    }\n",
       "\n",
       "    .dataframe thead th {\n",
       "        text-align: right;\n",
       "    }\n",
       "</style>\n",
       "<table border=\"1\" class=\"dataframe\">\n",
       "  <thead>\n",
       "    <tr style=\"text-align: right;\">\n",
       "      <th></th>\n",
       "      <th>Name</th>\n",
       "      <th>Country</th>\n",
       "      <th>City</th>\n",
       "      <th>Latitude</th>\n",
       "      <th>Longitude</th>\n",
       "    </tr>\n",
       "  </thead>\n",
       "  <tbody>\n",
       "    <tr>\n",
       "      <th>0</th>\n",
       "      <td>Velobike</td>\n",
       "      <td>RU</td>\n",
       "      <td>Moscow</td>\n",
       "      <td>55.750000</td>\n",
       "      <td>37.616667</td>\n",
       "    </tr>\n",
       "    <tr>\n",
       "      <th>1</th>\n",
       "      <td>Bicincittà</td>\n",
       "      <td>IT</td>\n",
       "      <td>Siena</td>\n",
       "      <td>43.318600</td>\n",
       "      <td>11.330600</td>\n",
       "    </tr>\n",
       "    <tr>\n",
       "      <th>2</th>\n",
       "      <td>Cyclopolis</td>\n",
       "      <td>GR</td>\n",
       "      <td>Maroussi</td>\n",
       "      <td>38.056872</td>\n",
       "      <td>23.808330</td>\n",
       "    </tr>\n",
       "    <tr>\n",
       "      <th>3</th>\n",
       "      <td>Cyclopolis</td>\n",
       "      <td>GR</td>\n",
       "      <td>Nafplio</td>\n",
       "      <td>37.563940</td>\n",
       "      <td>22.809340</td>\n",
       "    </tr>\n",
       "    <tr>\n",
       "      <th>4</th>\n",
       "      <td>Bicincittà</td>\n",
       "      <td>IT</td>\n",
       "      <td>Parco dei Colli di Bergamo</td>\n",
       "      <td>45.722956</td>\n",
       "      <td>9.649230</td>\n",
       "    </tr>\n",
       "  </tbody>\n",
       "</table>\n",
       "</div>"
      ],
      "text/plain": [
       "         Name Country                        City   Latitude  Longitude\n",
       "0    Velobike      RU                      Moscow  55.750000  37.616667\n",
       "1  Bicincittà      IT                       Siena  43.318600  11.330600\n",
       "2  Cyclopolis      GR                    Maroussi  38.056872  23.808330\n",
       "3  Cyclopolis      GR                     Nafplio  37.563940  22.809340\n",
       "4  Bicincittà      IT  Parco dei Colli di Bergamo  45.722956   9.649230"
      ]
     },
     "execution_count": 12,
     "metadata": {},
     "output_type": "execute_result"
    }
   ],
   "source": [
    "# create main dataframe\n",
    "bikeData = pd.DataFrame()\n",
    "\n",
    "# loop through the JSON formatted data\n",
    "for i in range(len(responseFilter['networks'])):\n",
    "    # create a temporary dataframe\n",
    "    temp = pd.DataFrame(\n",
    "        {\n",
    "            'Name': [responseFilter['networks'][i]['name']],\n",
    "            'Country': [responseFilter['networks'][i]['location']['country']],\n",
    "            'City': [responseFilter['networks'][i]['location']['city']],\n",
    "            'Latitude': [responseFilter['networks'][i]['location']['latitude']],\n",
    "            'Longitude': [responseFilter['networks'][i]['location']['longitude']]\n",
    "        }\n",
    "    )\n",
    "\n",
    "    # concatenate the temporary dataframe with the earlier created dataframe\n",
    "    bikeData = pd.concat([bikeData, temp], ignore_index=True)\n",
    "\n",
    "bikeData.head()"
   ]
  },
  {
   "cell_type": "code",
   "execution_count": null,
   "metadata": {},
   "outputs": [],
   "source": []
  }
 ],
 "metadata": {
  "kernelspec": {
   "display_name": "Python 3",
   "language": "python",
   "name": "python3"
  },
  "language_info": {
   "codemirror_mode": {
    "name": "ipython",
    "version": 3
   },
   "file_extension": ".py",
   "mimetype": "text/x-python",
   "name": "python",
   "nbconvert_exporter": "python",
   "pygments_lexer": "ipython3",
   "version": "3.12.2"
  }
 },
 "nbformat": 4,
 "nbformat_minor": 2
}
